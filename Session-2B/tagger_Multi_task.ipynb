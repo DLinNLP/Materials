{
  "nbformat": 4,
  "nbformat_minor": 0,
  "metadata": {
    "colab": {
      "name": "tagger_Multi-task.ipynb",
      "provenance": [],
      "collapsed_sections": []
    },
    "kernelspec": {
      "name": "python3",
      "display_name": "Python 3"
    },
    "accelerator": "GPU"
  },
  "cells": [
    {
      "cell_type": "markdown",
      "metadata": {
        "id": "jLImtw4oo0WV",
        "colab_type": "text"
      },
      "source": [
        "# Multi-task Learning\n",
        "---\n",
        "\n",
        "<font size=\"4\"> \n",
        "  \n",
        "  Multi-task learning is an approach for jointly training multiple models. It can be simply implemented in neural networks by learning tasks in parallel while using a shared representation.\n",
        "  \n",
        "The simplest way is when we have different outputs for the same input and simultaneously train a model to predict the two or more outputs. \n",
        "  \n",
        "Parallel models can have both shared and independent layers.\n",
        "  \n",
        "  <figure>\n",
        "<center>\n",
        "<img src=\"https://drive.google.com/uc?id=1LdwHoHlwm2wQj6SHUazYkNcavTCJp1_X\" width=\"400\" height=\"300\"/>\n",
        "<figcaption>Multi-task learning</figcaption></center>\n",
        "</figure>\n",
        "  \n",
        "In this excercise, we use the tags for chunking (which is provided in CONLL 2003 dataset in the third column) as our auxiliary outputs. The idea is that these two tasks can benefit from each other.\n",
        "  \n",
        "  \n",
        "The sections of the code that should be modified for multi-tasking are as follows:\n",
        "  \n",
        "\n",
        "\n",
        "* Modify `readfile()`, to read the chunking column as well\n",
        "* Create a dictionary that encode auxiliary tags\n",
        "* Return auxiliary tags from class `CoNLL2003NER(Dataset)`\n",
        "* Modify the model class. The architecture of the model will consist of one LSTM layer on top of embedding, then, two parallel LSTM layers, one to learn auxiliary tags and one to learn the main tags, and finally two Linear layers in similar fashion. The model returns two outputs accordingly.\n",
        "* In the training loop, two losses will be computed, one for main tags predictions and one for auxiliary tags prediction. Backpropagation would be performed based on the addition of the two losses.\n",
        " \n",
        "</font>"
      ]
    },
    {
      "cell_type": "code",
      "metadata": {
        "id": "LF8OUxU6jSkE",
        "colab_type": "code",
        "colab": {
          "base_uri": "https://localhost:8080/",
          "height": 122
        },
        "outputId": "5a613873-1666-4c0d-b145-bcc2c37ba863"
      },
      "source": [
        "# The following two lines authorises access to Google Drive:\n",
        "from google.colab import drive\n",
        "drive.mount('/content/drive/')\n",
        "\n",
        "import warnings\n",
        "warnings.filterwarnings('ignore')"
      ],
      "execution_count": 1,
      "outputs": [
        {
          "output_type": "stream",
          "text": [
            "Go to this URL in a browser: https://accounts.google.com/o/oauth2/auth?client_id=947318989803-6bn6qk8qdgf4n4g3pfee6491hc0brc4i.apps.googleusercontent.com&redirect_uri=urn%3aietf%3awg%3aoauth%3a2.0%3aoob&response_type=code&scope=email%20https%3a%2f%2fwww.googleapis.com%2fauth%2fdocs.test%20https%3a%2f%2fwww.googleapis.com%2fauth%2fdrive%20https%3a%2f%2fwww.googleapis.com%2fauth%2fdrive.photos.readonly%20https%3a%2f%2fwww.googleapis.com%2fauth%2fpeopleapi.readonly\n",
            "\n",
            "Enter your authorization code:\n",
            "··········\n",
            "Mounted at /content/drive/\n"
          ],
          "name": "stdout"
        }
      ]
    },
    {
      "cell_type": "code",
      "metadata": {
        "id": "WJnwvlt7jffE",
        "colab_type": "code",
        "outputId": "afa9a36e-0b73-4068-931b-a6201f8a4235",
        "colab": {
          "base_uri": "https://localhost:8080/",
          "height": 34
        }
      },
      "source": [
        "import numpy as np\n",
        "import time\n",
        "import pdb\n",
        "import torch\n",
        "import gensim\n",
        "import torch.nn as nn\n",
        "import torch.optim as optim\n",
        "import torch.nn.functional as F\n",
        "from torch.utils.data import Dataset, DataLoader\n",
        "from torch.nn.utils.rnn import pack_padded_sequence, pad_packed_sequence\n",
        "\n",
        "use_cuda = torch.cuda.is_available()\n",
        "print(\"cuda device {}available\".format(\"\" if use_cuda else \"un\"))\n",
        "device = torch.device(\"cuda:0\" if use_cuda else \"cpu\")\n",
        "\n",
        "# Parameters\n",
        "EMBEDDING_DIM = 300\n",
        "HIDDEN_DIM = 200\n",
        "BATCH_SIZE = 256 #300\n",
        "EPOCHS = 30\n",
        "LSTM_DROPOUT = 0.3\n",
        "USE_PRETRAINED = False\n",
        "\n",
        "# data dir\n",
        "data_folder = \"/content/drive/My Drive/DLinNLP/Data\"\n",
        "# embeddings folder \n",
        "embed_folder = \"/content/drive/My Drive/DLinNLP/embeddings\""
      ],
      "execution_count": 2,
      "outputs": [
        {
          "output_type": "stream",
          "text": [
            "cuda device available\n"
          ],
          "name": "stdout"
        }
      ]
    },
    {
      "cell_type": "markdown",
      "metadata": {
        "id": "-GWyxC9mu32c",
        "colab_type": "text"
      },
      "source": [
        "## Data Format\n",
        "---\n",
        "<font size=\"4\"> One standard file format for representing IOB-annotated datasets is called CONLL. \n",
        "  \n",
        "A CONLL file contains one token per line and an empty line indicating the end of a sentence. Each token may be annotated by several tab-separated columns indicating information about the token (e.g. token raw form) or differrent tags assigned to it (e.g. syntactic and morphological labels).\n",
        "</font>\n",
        "\n",
        "<P>\n",
        "<table align=\"left\" style=\"width:100%\">\n",
        "  <tr>\n",
        "    <td>Welsh</td>\n",
        "    <td>NNP</td> \n",
        "    <td>B-NP</td>\n",
        "    <td><b>B-ORG</td>\n",
        "  </tr>\n",
        "  <tr>\n",
        "    <td>National</td>\n",
        "    <td>NNP</td> \n",
        "    <td>I-NP</td>\n",
        "    <td><b>I-ORG</td>\n",
        "  </tr>\n",
        "  <tr>\n",
        "    <td>Farmers</td>\n",
        "    <td>NNP</td> \n",
        "    <td>I-NP</td>\n",
        "    <td><b>I-ORG</td>\n",
        "  </tr>\n",
        "  <tr>\n",
        "    <td>'</td>\n",
        "    <td>POS</td> \n",
        "    <td>B-NP</td>\n",
        "    <td><b>I-ORG</td>\n",
        "  </tr>\n",
        "  <tr>\n",
        "    <td>Union</td>\n",
        "    <td>NNP</td> \n",
        "    <td>I-NP</td>\n",
        "    <td><b>I-ORG</td>\n",
        "  </tr>\n",
        "  <tr>\n",
        "    <td>(</td>\n",
        "    <td>(</td> \n",
        "    <td>O</td>\n",
        "    <td><b>O</td>\n",
        "  </tr>\n",
        "  <tr>\n",
        "    <td>NFU</td>\n",
        "    <td>NNP</td> \n",
        "    <td>B-NP</td>\n",
        "    <td><b>B-ORG</td>\n",
        "  </tr>\n",
        "  <tr>\n",
        "    <td>)</td>\n",
        "    <td>)</td> \n",
        "    <td>O</td>\n",
        "    <td><b>O</td>\n",
        "  </tr>\n",
        "  <tr>\n",
        "    <td>chairman</td>\n",
        "    <td>NN</td> \n",
        "    <td>B-NP</td>\n",
        "    <td><b>O</td>\n",
        "  </tr>\n",
        "  <tr>\n",
        "    <td>John</td>\n",
        "    <td>NNP</td> \n",
        "    <td>I-NP</td>\n",
        "    <td><b>B-PER</td>\n",
        "  </tr>\n",
        "  <tr>\n",
        "    <td>Lloyd</td>\n",
        "    <td>NNP</td> \n",
        "    <td>I-NP</td>\n",
        "    <td><b>I-PER</td>\n",
        "  </tr>\n",
        "  <tr>\n",
        "    <td>said</td>\n",
        "    <td>VBD</td> \n",
        "    <td>B-VP</td>\n",
        "    <td><b>O</td>\n",
        "  </tr>\n",
        "  <tr>\n",
        "    <td>on</td>\n",
        "    <td>IN</td> \n",
        "    <td>B-PP</td>\n",
        "    <td><b>O</td>\n",
        "  </tr>\n",
        "  <tr>\n",
        "    <td>BBC</td>\n",
        "    <td>NNP</td> \n",
        "    <td>B-NP</td>\n",
        "    <td><b>B-ORG</td>\n",
        "  </tr>\n",
        "  <tr>\n",
        "    <td>radio</td>\n",
        "    <td>NN</td> \n",
        "    <td>I-NP</td>\n",
        "    <td><b>I-ORG</td>\n",
        "  </tr>\n",
        "  <tr>\n",
        "    <td>.</td>\n",
        "    <td>.</td> \n",
        "    <td>O</td>\n",
        "    <td><b>O</b></td>\n",
        "  </tr>\n",
        "  <tr>\n",
        "    <td><br></tr>\n",
        "    <td><font size=\"4\"> Here, we read the CONLL 2003 dataset! <font></td>\n",
        "  </tr>\n",
        "</table>\n",
        "\n",
        "<br>\n",
        "</P> \n"
      ]
    },
    {
      "cell_type": "code",
      "metadata": {
        "id": "xpafGCXojfcB",
        "colab_type": "code",
        "outputId": "c5e24e21-a2ed-4465-c353-db23dd690efd",
        "colab": {
          "base_uri": "https://localhost:8080/",
          "height": 102
        }
      },
      "source": [
        "#\n",
        "# This fuction has been modified to read the chunking column as well.\n",
        "\n",
        "def readfile(filename):\n",
        "    f = open(filename)\n",
        "    sentences = []\n",
        "    sentence = []\n",
        "    for line in f:\n",
        "        if len(line) == 0 or line.startswith('-DOCSTART') or line[0] == \"\\n\":\n",
        "            if len(sentence) > 0:\n",
        "                sentences.append(sentence)\n",
        "                sentence = []\n",
        "            continue\n",
        "        splits = line.split(' ')\n",
        "        sentence.append([splits[0].strip(), splits[-2].strip(), splits[-1].strip()])\n",
        "\n",
        "    if len(sentence) > 0:\n",
        "        sentences.append(sentence)\n",
        "        sentence = []\n",
        "    sentences = [tuple(zip(*l)) for l in sentences]\n",
        "    return sentences\n",
        "\n",
        "train_data = np.array(readfile(data_folder+'/train.txt'))\n",
        "dev_data = np.array(readfile(data_folder+'/dev.txt'))\n",
        "test_data = np.array(readfile(data_folder+'/test.txt'))\n",
        "\n",
        "#train_data = train_data[0:6000,:]\n",
        "print(train_data.shape)\n",
        "print(train_data[0])\n",
        "print(dev_data.shape)"
      ],
      "execution_count": 3,
      "outputs": [
        {
          "output_type": "stream",
          "text": [
            "(14041, 3)\n",
            "[('EU', 'rejects', 'German', 'call', 'to', 'boycott', 'British', 'lamb', '.')\n",
            " ('B-NP', 'B-VP', 'B-NP', 'I-NP', 'B-VP', 'I-VP', 'B-NP', 'I-NP', 'O')\n",
            " ('B-ORG', 'O', 'B-MISC', 'O', 'O', 'O', 'B-MISC', 'O', 'O')]\n",
            "(3250, 3)\n"
          ],
          "name": "stdout"
        }
      ]
    },
    {
      "cell_type": "markdown",
      "metadata": {
        "id": "JXW2CYLTA8zf",
        "colab_type": "text"
      },
      "source": [
        "## Pre-processing \n",
        "---\n",
        "\n",
        "<font size=\"4\">It is common to sort data instances based on their lengths. This way, the lengths of sequences in each batch would be more homogeneous. \n",
        "<font>"
      ]
    },
    {
      "cell_type": "code",
      "metadata": {
        "id": "LL_zgRz6jfYi",
        "colab_type": "code",
        "colab": {}
      },
      "source": [
        "# This reordering is useful for padding\n",
        "def tensor_reorder(data):\n",
        "    \"\"\"reorders tensors from longest to shortest\"\"\"\n",
        "    lengths = [len(i[0]) for i in data]\n",
        "    max_len = max(lengths)\n",
        "    lengths = torch.LongTensor(lengths)\n",
        "    lengths, perm_idx = lengths.sort(0, descending=True)\n",
        "    data = data[perm_idx]\n",
        "    return data\n",
        "\n",
        "train_data = tensor_reorder(train_data)\n",
        "dev_data = tensor_reorder(dev_data)\n",
        "\n",
        "test_data = tensor_reorder(test_data)\n",
        "\n",
        "MAX_LEN = max(len(train_data[0][0]), len(dev_data[0][0])) # we set the maximum length from the max seq in train "
      ],
      "execution_count": 0,
      "outputs": []
    },
    {
      "cell_type": "code",
      "metadata": {
        "id": "8wMKVnTrjfWN",
        "colab_type": "code",
        "colab": {}
      },
      "source": [
        "# Here, we create a dictionary that maps all words to indices (for encoding)\n",
        "\n",
        "all_words = list(set([w for sent in np.concatenate((train_data,dev_data), axis=0) for w in sent[0]]))\n",
        "\n",
        "word_to_ix = {t:i+2 for i, t in enumerate(all_words)}\n",
        "word_to_ix['<PAD>'] = 0\n",
        "word_to_ix['<UNK>'] = 1\n",
        "\n",
        "\n",
        "all_tags_aux = list(set([tag for sent in np.concatenate((train_data,dev_data), axis=0) for tag in sent[1]]))\n",
        "tag_to_ix_aux = {t:i+1 for i, t in enumerate(all_tags_aux)}\n",
        "tag_to_ix_aux['<PAD>'] = 0\n",
        "ix_to_tag_aux = {v: k for k, v in tag_to_ix_aux.items()}\n",
        "\n",
        "# The tagset is simplified (NE categories not included) \n",
        "tag_to_ix = {'<PAD>':0, 'B-MISC':1, 'B-LOC':1, 'B-ORG':1, 'B-PER':1,\n",
        "             'I-MISC':2, 'I-PER':2, 'I-ORG':2, 'I-LOC':2, 'O':3}\n",
        "ix_to_tag = {0:'<PAD>', 1:'B', 2:'I', 3:'O'}\n",
        "\n",
        "## If we wanted to consider tags in their entirety:\n",
        "# all_tags = list(set([tag for sent_tag in train_data for tag in sent_tag[1]]))\n",
        "# tag_to_ix = {t:i+1 for i, t in enumerate(all_tags)}\n",
        "# tag_to_ix['<PAD>'] = 0\n",
        "# ix_to_tag = {v: k for k, v in tag_to_ix.items()}"
      ],
      "execution_count": 0,
      "outputs": []
    },
    {
      "cell_type": "code",
      "metadata": {
        "id": "gZ5P-gPUjhRQ",
        "colab_type": "code",
        "colab": {}
      },
      "source": [
        "# This class creates a generator of data batches in order to faster the access to data.\n",
        "class CoNLL2003NER(Dataset):\n",
        "\n",
        "    def __init__(self, X, max_len, word_to_ix, tag_to_ix_aux, tag_to_ix):\n",
        "        self.X = X\n",
        "        self.max_len = max_len\n",
        "        self.word_to_ix = word_to_ix\n",
        "        self.tag_to_ix_aux = tag_to_ix_aux\n",
        "        self.tag_to_ix = tag_to_ix\n",
        "        \n",
        "    def transform(self, seq, to_ix):\n",
        "        idxs = [to_ix[w] if w in to_ix else 1 for w in seq]\n",
        "        if len(idxs) > self.max_len:\n",
        "            # Truncating\n",
        "            idxs = idxs[:self.max_len]    \n",
        "        else:\n",
        "            # Padding\n",
        "            idxs += [0]*(self.max_len-len(seq))\n",
        "        \n",
        "        return torch.tensor(idxs, dtype=torch.long)\n",
        "\n",
        "    def __len__(self):\n",
        "        return len(self.X)\n",
        "\n",
        "    def __getitem__(self, idx):\n",
        "        return self.transform(self.X[idx][0],word_to_ix), self.transform(self.X[idx][1], tag_to_ix_aux), self.transform(self.X[idx][2], tag_to_ix)"
      ],
      "execution_count": 0,
      "outputs": []
    },
    {
      "cell_type": "code",
      "metadata": {
        "id": "e6kv5mDemXfZ",
        "colab_type": "code",
        "colab": {}
      },
      "source": [
        "params = {'batch_size': BATCH_SIZE,\n",
        "          'shuffle': False,\n",
        "          'num_workers': 6,\n",
        "          'drop_last':True}\n",
        "\n",
        "\n",
        "train_data = CoNLL2003NER(train_data, MAX_LEN, word_to_ix, tag_to_ix_aux, tag_to_ix)\n",
        "train_data_generator = DataLoader(train_data, **params)\n",
        "\n",
        "test_data = CoNLL2003NER(test_data, MAX_LEN, word_to_ix, tag_to_ix_aux, tag_to_ix)\n",
        "test_data_generator = DataLoader(test_data, **params)\n",
        "\n",
        "dev_data = CoNLL2003NER(dev_data, MAX_LEN, word_to_ix, tag_to_ix_aux, tag_to_ix)\n",
        "dev_data_generator = DataLoader(dev_data, **params)"
      ],
      "execution_count": 0,
      "outputs": []
    },
    {
      "cell_type": "markdown",
      "metadata": {
        "id": "_P8G0y54rpr8",
        "colab_type": "text"
      },
      "source": [
        "<font size=\"4\"> As you remember, in PyTorch, we build a class that inherits from Pytorch's nn.Module and includes two critical functions: <i>\\_\\_init\\_\\_</i> and <i>forward</i>.\n",
        "  </font>"
      ]
    },
    {
      "cell_type": "code",
      "metadata": {
        "id": "1Gm5mWQlmXbV",
        "colab_type": "code",
        "colab": {}
      },
      "source": [
        "# An LSTM_based Tgger for Multi-task learning\n",
        "class LSTMTagger(nn.Module):\n",
        "\n",
        "    def __init__(self, embedding_dim, hidden_dim, vocab_size, aux_tagset_size, tagset_size, max_len):\n",
        "        super(LSTMTagger, self).__init__()\n",
        "        \n",
        "        self.word_embeddings = nn.Embedding(vocab_size, embedding_dim) \n",
        "        \n",
        "        ### TO DO ####   \n",
        "        # load weights from pre-trained vectors or with random initialization \n",
        "        \n",
        "        ### TO DO ####\n",
        "        ### Add other layers to the Model ###\n",
        "        self.lstm1 = nn.LSTM(embedding_dim, hidden_dim, batch_first=True, dropout=LSTM_DROPOUT, bidirectional=True, num_layers=1)\n",
        "        self.lstm2a = nn.LSTM(2 * hidden_dim, hidden_dim, batch_first=True, dropout=LSTM_DROPOUT, bidirectional=True, num_layers=1)\n",
        "        self.lstm2b = nn.LSTM(2 * hidden_dim, hidden_dim, batch_first=True, dropout=LSTM_DROPOUT, bidirectional=True, num_layers=1)\n",
        "\n",
        "        \n",
        "        # The linear layer that maps from hidden state space to tag space\n",
        "        self.hidden2aux_tag = nn.Linear(2*hidden_dim, aux_tagset_size)\n",
        "        self.hidden2tag = nn.Linear(2*hidden_dim, tagset_size)\n",
        "\n",
        "    def forward(self, sentence): \n",
        "        embeds = self.word_embeddings(sentence)     # SHAPE: [BATCH_SIZE,MAX_LEN,WORD_EMBEDDING_DIM]\n",
        "        \n",
        "        lstm_shared, _ = self.lstm1(embeds)\n",
        "        \n",
        "        lstm_out_aux, _ = self.lstm2a(lstm_shared)\n",
        "        aux_tag_space = self.hidden2aux_tag(lstm_out_aux)\n",
        "        aux_tag_scores = F.log_softmax(aux_tag_space, dim=-1) \n",
        "        \n",
        "        lstm_out, _ = self.lstm2b(lstm_shared)\n",
        "        tag_space = self.hidden2tag(lstm_out)\n",
        "        tag_scores = F.log_softmax(tag_space, dim=-1) \n",
        "        \n",
        "        return aux_tag_scores, tag_scores"
      ],
      "execution_count": 0,
      "outputs": []
    },
    {
      "cell_type": "code",
      "metadata": {
        "id": "wBoxn3i6mXX_",
        "colab_type": "code",
        "outputId": "ea1ab81b-8731-4319-cd45-99f0e8639fa4",
        "colab": {
          "base_uri": "https://localhost:8080/",
          "height": 289
        }
      },
      "source": [
        "model = LSTMTagger(EMBEDDING_DIM, HIDDEN_DIM, len(word_to_ix), len(ix_to_tag_aux), len(ix_to_tag), MAX_LEN).to(device)\n",
        "\n",
        "# The negative log likelihood loss. \n",
        "# It is useful to train a classification problem with C classes.\n",
        "loss_function = nn.NLLLoss(ignore_index=0)  \n",
        "optimizer = optim.Adam(model.parameters(), lr = 0.001) \n",
        "\n",
        "print(model)\n",
        "print(model.parameters)"
      ],
      "execution_count": 9,
      "outputs": [
        {
          "output_type": "stream",
          "text": [
            "LSTMTagger(\n",
            "  (word_embeddings): Embedding(26885, 300)\n",
            "  (lstm1): LSTM(300, 200, batch_first=True, dropout=0.3, bidirectional=True)\n",
            "  (lstm2a): LSTM(400, 200, batch_first=True, dropout=0.3, bidirectional=True)\n",
            "  (lstm2b): LSTM(400, 200, batch_first=True, dropout=0.3, bidirectional=True)\n",
            "  (hidden2aux_tag): Linear(in_features=400, out_features=22, bias=True)\n",
            "  (hidden2tag): Linear(in_features=400, out_features=4, bias=True)\n",
            ")\n",
            "<bound method Module.parameters of LSTMTagger(\n",
            "  (word_embeddings): Embedding(26885, 300)\n",
            "  (lstm1): LSTM(300, 200, batch_first=True, dropout=0.3, bidirectional=True)\n",
            "  (lstm2a): LSTM(400, 200, batch_first=True, dropout=0.3, bidirectional=True)\n",
            "  (lstm2b): LSTM(400, 200, batch_first=True, dropout=0.3, bidirectional=True)\n",
            "  (hidden2aux_tag): Linear(in_features=400, out_features=22, bias=True)\n",
            "  (hidden2tag): Linear(in_features=400, out_features=4, bias=True)\n",
            ")>\n"
          ],
          "name": "stdout"
        }
      ]
    },
    {
      "cell_type": "code",
      "metadata": {
        "id": "gPfxkFwB3Ngk",
        "colab_type": "code",
        "outputId": "101d9956-809c-49f0-d938-f9feaf9d96b3",
        "colab": {
          "base_uri": "https://localhost:8080/",
          "height": 34
        }
      },
      "source": [
        "# Check the number of parameters\n",
        "pp=0\n",
        "for p in list(model.parameters()):\n",
        "        nn=1\n",
        "        for s in list(p.size()):\n",
        "            nn = nn*s\n",
        "        pp += nn\n",
        "print(pp)"
      ],
      "execution_count": 10,
      "outputs": [
        {
          "output_type": "stream",
          "text": [
            "10805526\n"
          ],
          "name": "stdout"
        }
      ]
    },
    {
      "cell_type": "code",
      "metadata": {
        "id": "PetKGeMUmXUJ",
        "colab_type": "code",
        "colab": {}
      },
      "source": [
        ""
      ],
      "execution_count": 0,
      "outputs": []
    },
    {
      "cell_type": "code",
      "metadata": {
        "id": "8oG8FVrcmXMU",
        "colab_type": "code",
        "colab": {}
      },
      "source": [
        "# Early stopping procedure\n",
        "def early_stop(losses, patience):\n",
        "    \"\"\"stop execution if there is consecutive decline/stagnation in the loss values.\n",
        "       patience determines how quickly we take action. \n",
        "    \"\"\"\n",
        "    stop = False\n",
        "    patience += 1\n",
        "    if len(losses)>patience and min(losses[-patience:])==losses[-patience]:\n",
        "        stop = True\n",
        "    return stop"
      ],
      "execution_count": 0,
      "outputs": []
    },
    {
      "cell_type": "code",
      "metadata": {
        "id": "LnB2nxhJmXC_",
        "colab_type": "code",
        "outputId": "6cf355f4-a880-4dbc-93a5-2081ac1b7f58",
        "colab": {
          "base_uri": "https://localhost:8080/",
          "height": 408
        }
      },
      "source": [
        "def trainer(model, epochs):\n",
        "    \"\"\"train the model for the specified # of epochs\"\"\"\n",
        "    \n",
        "    \n",
        "    avg_train_losses = []\n",
        "    avg_valid_losses = [] \n",
        "    \n",
        "    for epoch in range(epochs):\n",
        "        \n",
        "                ################\n",
        "                ## train mode ##\n",
        "                ################\n",
        "        model.train() # set the model to training mode  \n",
        "        print('Epoch:', epoch+1)\n",
        "        t0 = time.time()\n",
        "        n_correct, n_total = 0, 0\n",
        "         \n",
        "        batch_losses = []\n",
        "        valid_losses = []\n",
        "        for sentences, aux_tags, tags in train_data_generator:\n",
        "            sentences, tags = sentences.to(device), tags.to(device)\n",
        "            aux_tags = aux_tags.to(device)\n",
        "            \n",
        "            # clear gradients \n",
        "            model.zero_grad()\n",
        "\n",
        "            # Run forward pass\n",
        "            predictions_aux, predictions = model(sentences)\n",
        "            \n",
        "            # compute the loss, gradients, and update the parameters\n",
        "            predictions = predictions.permute(0,2,1)       # loss presumes labels to come 2nd (hence the permute)\n",
        "            predictions_aux = predictions_aux.permute(0,2,1)       # loss presumes labels to come 2nd (hence the permute)\n",
        "            \n",
        "            batch_loss_prim = loss_function(predictions, tags)  # This computes average loss over all instances of the batch \n",
        "            batch_loss_aux = loss_function(predictions_aux, aux_tags)\n",
        "            \n",
        "            batch_loss = batch_loss_prim + batch_loss_aux\n",
        "            #print(batch_loss)\n",
        "            \n",
        "            batch_losses.append(batch_loss_prim.item())\n",
        "            \n",
        "            # compute number of correct predictions per epoch   \n",
        "            outputs = torch.argmax(predictions, dim=1)        \n",
        "            \n",
        "            n_correct += torch.sum(outputs==tags, dtype=torch.float)\n",
        "            n_total += float(tags.size(0) * tags.size(1))  # denominator: batch_size * max_len (e.g. 100 * 52)\n",
        "            \n",
        "            batch_loss.backward()\n",
        "            optimizer.step()\n",
        "        \n",
        "        epoch_acc = n_correct/n_total\n",
        "        epoch_loss = np.average(batch_losses)\n",
        "        avg_train_losses.append(epoch_loss) # for keeping track of avg train losses\n",
        "  \n",
        "                ################\n",
        "                ## eval mode ###\n",
        "                ################\n",
        "        model.eval() # set the model to eval mode\n",
        "        for valid_sentences, valid_tags_aux, valid_tags in dev_data_generator:\n",
        "            valid_sentences, valid_tags_aux, valid_tags = valid_sentences.to(device), valid_tags_aux.to(device), valid_tags.to(device)\n",
        "            \n",
        "            # Run forward pass. Note since we are in eval mode, we don't need to set grad to zero  \n",
        "            _, valid_predictions = model(valid_sentences)\n",
        "            valid_predictions = valid_predictions.permute(0,2,1)\n",
        "            # calculate the average loss \n",
        "            valid_batch_loss = loss_function(valid_predictions, valid_tags)\n",
        "            valid_losses.append(valid_batch_loss.item())\n",
        "            \n",
        "        valid_loss = np.average(valid_losses)\n",
        "        avg_valid_losses.append(valid_loss)\n",
        "        \n",
        "        t = time.time()\n",
        "        print('epoch loss: {}\\tepoch acc: {}\\tvalid loss:{}\\ttime:{}'.format(epoch_loss, epoch_acc.item(), valid_loss, t-t0))\n",
        "        \n",
        "        ### TO DO ###    \n",
        "        # Early Stopping\n",
        "        # end training if validation losses stagnate/increase \n",
        "        if early_stop(avg_valid_losses, patience=5):\n",
        "            print(\"Early stopping...\")\n",
        "            break\n",
        "        \n",
        "        ### TO DO ###    \n",
        "        # Saving the best Model\n",
        "        \n",
        "    return model, avg_train_losses, avg_valid_losses \n",
        "            \n",
        "model, avg_train_losses, avg_valid_losses = trainer(model, EPOCHS)"
      ],
      "execution_count": 12,
      "outputs": [
        {
          "output_type": "stream",
          "text": [
            "Epoch: 1\n",
            "epoch loss: 0.6525895766637944\tepoch acc: 0.11225699633359909\tvalid loss:0.6201728185017904\ttime:21.972609281539917\n",
            "Epoch: 2\n",
            "epoch loss: 0.3647920795612865\tepoch acc: 0.11194908618927002\tvalid loss:0.446022666990757\ttime:21.90899658203125\n",
            "Epoch: 3\n",
            "epoch loss: 0.21821879078116682\tepoch acc: 0.11710620671510696\tvalid loss:0.23622154320279756\ttime:21.90216898918152\n",
            "Epoch: 4\n",
            "epoch loss: 0.1262142445754122\tepoch acc: 0.122630774974823\tvalid loss:0.23391728848218918\ttime:22.16938328742981\n",
            "Epoch: 5\n",
            "epoch loss: 0.08507939634189286\tepoch acc: 0.12466072291135788\tvalid loss:0.22451132784287134\ttime:22.10663676261902\n",
            "Epoch: 6\n",
            "epoch loss: 0.059642010946171706\tepoch acc: 0.12620478868484497\tvalid loss:0.16199050409098467\ttime:22.1860511302948\n",
            "Epoch: 7\n",
            "epoch loss: 0.031815425397966196\tepoch acc: 0.12829618155956268\tvalid loss:0.16706143071254095\ttime:22.04697847366333\n",
            "Epoch: 8\n",
            "epoch loss: 0.019104926549415622\tepoch acc: 0.1291303038597107\tvalid loss:0.16481681416432062\ttime:22.168050289154053\n",
            "Epoch: 9\n",
            "epoch loss: 0.011796342172332245\tepoch acc: 0.1295822560787201\tvalid loss:0.22004642399648824\ttime:22.05555272102356\n",
            "Epoch: 10\n",
            "epoch loss: 0.009403312037681678\tepoch acc: 0.12959890067577362\tvalid loss:0.21606479088465372\ttime:22.11830735206604\n",
            "Epoch: 11\n",
            "epoch loss: 0.007338857017371252\tepoch acc: 0.12979096174240112\tvalid loss:0.1995669628183047\ttime:22.133626222610474\n",
            "Early stopping...\n"
          ],
          "name": "stdout"
        }
      ]
    },
    {
      "cell_type": "code",
      "metadata": {
        "id": "Aa4vzoEReMeB",
        "colab_type": "code",
        "outputId": "b07f9c5b-5427-46f5-8e13-f098d498eec8",
        "colab": {
          "base_uri": "https://localhost:8080/",
          "height": 497
        }
      },
      "source": [
        "# Visualizing the loss as the network trained\n",
        "\n",
        "\n",
        "import matplotlib.pyplot as plt\n",
        "\n",
        "fig = plt.figure(figsize=(10,8))\n",
        "\n",
        "plt.plot(range(1,len(avg_train_losses)+1),avg_train_losses, label='Training Loss')\n",
        "plt.plot(range(1,len(avg_valid_losses)+1),avg_valid_losses,label='Validation Loss')\n",
        "\n",
        "#plt.ylim(1.8, 2.2)\n",
        "\n",
        "plt.xlabel('epochs')\n",
        "plt.ylabel('loss')\n",
        "\n",
        "# find position of lowest validation loss\n",
        "minposs = avg_valid_losses.index(min(avg_valid_losses))+1 \n",
        "plt.axvline(minposs, linestyle='--', color='r',label='Early Stopping')\n",
        "\n",
        "plt.grid(True)\n",
        "plt.legend()\n",
        "\n",
        "plt.show()"
      ],
      "execution_count": 13,
      "outputs": [
        {
          "output_type": "display_data",
          "data": {
            "image/png": "[encoded data removed]",
            "text/plain": [
              "<Figure size 720x576 with 1 Axes>"
            ]
          },
          "metadata": {
            "tags": []
          }
        }
      ]
    },
    {
      "cell_type": "code",
      "metadata": {
        "id": "j9XRK1GJSjBc",
        "colab_type": "code",
        "colab": {}
      },
      "source": [
        "# define evaluation metrics (acc, precision, recall, and f1-score)\n",
        "from sklearn.metrics import precision_recall_fscore_support\n",
        "\n",
        "class Evaluate():\n",
        "    def __init__(self, out, labels):\n",
        "        self.out = out.numpy().flatten()\n",
        "        self.labels = labels.numpy().flatten()\n",
        "    def accuracy(self):\n",
        "        nb_correct = sum(y_t==y_p for y_t, y_p in zip(self.labels, self.out))\n",
        "        nb_true = len(self.labels)\n",
        "        score = nb_correct / nb_true\n",
        "        return score\n",
        "    def precision_recall_fscore(self, tag_list, average='macro'):\n",
        "        return precision_recall_fscore_support(self.labels, self.out, \n",
        "                                                  average=average,labels=tag_list)[:-1]"
      ],
      "execution_count": 0,
      "outputs": []
    },
    {
      "cell_type": "code",
      "metadata": {
        "id": "5tWDZVOimW6L",
        "colab_type": "code",
        "outputId": "2f0eff88-4fc6-481b-91aa-e7ff460fa360",
        "colab": {
          "base_uri": "https://localhost:8080/",
          "height": 255
        }
      },
      "source": [
        "# evaluate the model on test set \n",
        "\n",
        "all_preds = torch.LongTensor().to(device)\n",
        "all_labels = torch.LongTensor().to(device)\n",
        "\n",
        "with torch.no_grad():\n",
        "    for sent, aux_target, target in test_data_generator:\n",
        "        sent, target = sent.to(device), target.to(device)\n",
        "        _, tag_scores = model(sent)\n",
        "        \n",
        "        predict = tag_scores.data.max(2, keepdim=True)[1]        \n",
        "        all_preds = torch.cat([all_preds, predict])\n",
        "        all_labels = torch.cat([all_labels,target])\n",
        "    \n",
        "    all_preds, all_labels = all_preds.cpu(), all_labels.cpu()\n",
        "    all_preds = all_preds.squeeze(dim=-1)\n",
        "    print()\n",
        "    evaluator = Evaluate(all_preds, all_labels)\n",
        "    print('Overall Results on the Test set:')\n",
        "    print('Accuracy\\t{}'.format(evaluator.accuracy()))\n",
        "    pr, rc, fm = evaluator.precision_recall_fscore(tag_list=[1,2,3]) # we ignore pad  \n",
        "    print('Precision\\t{}\\nRecall\\t\\t{}\\nF1-score\\t{}'.format(pr,rc,fm))\n",
        "    \n",
        "    print('\\n==================\\n')\n",
        "    \n",
        "    print('# Results ignoring O:\\n')\n",
        "    tag_list = [1,2] # we ignore both pad and O\n",
        "    pr, rc, fm = evaluator.precision_recall_fscore(tag_list)\n",
        "    print('Precision\\t{}\\nRecall\\t\\t{}\\nF1-score\\t{}'.format(pr,rc,fm))         "
      ],
      "execution_count": 15,
      "outputs": [
        {
          "output_type": "stream",
          "text": [
            "\n",
            "Overall Results on the Test set:\n",
            "Accuracy\t0.11595632658270932\n",
            "Precision\t0.6332383832053213\n",
            "Recall\t\t0.7997608951755261\n",
            "F1-score\t0.5878407598759661\n",
            "\n",
            "==================\n",
            "\n",
            "# Results ignoring O:\n",
            "\n",
            "Precision\t0.8988167621813135\n",
            "Recall\t\t0.7054185848834451\n",
            "F1-score\t0.7892351302096483\n"
          ],
          "name": "stdout"
        }
      ]
    },
    {
      "cell_type": "code",
      "metadata": {
        "id": "v6EP7vrK45xK",
        "colab_type": "code",
        "colab": {}
      },
      "source": [
        ""
      ],
      "execution_count": 0,
      "outputs": []
    },
    {
      "cell_type": "code",
      "metadata": {
        "id": "L-k0ILVz45vD",
        "colab_type": "code",
        "colab": {}
      },
      "source": [
        ""
      ],
      "execution_count": 0,
      "outputs": []
    },
    {
      "cell_type": "code",
      "metadata": {
        "id": "dp4BAe_k45pB",
        "colab_type": "code",
        "colab": {}
      },
      "source": [
        ""
      ],
      "execution_count": 0,
      "outputs": []
    },
    {
      "cell_type": "code",
      "metadata": {
        "id": "bT7e_EZq44T1",
        "colab_type": "code",
        "colab": {}
      },
      "source": [
        ""
      ],
      "execution_count": 0,
      "outputs": []
    },
    {
      "cell_type": "code",
      "metadata": {
        "id": "u00iumtg44Id",
        "colab_type": "code",
        "colab": {}
      },
      "source": [
        ""
      ],
      "execution_count": 0,
      "outputs": []
    }
  ]
}