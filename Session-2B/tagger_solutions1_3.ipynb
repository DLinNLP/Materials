{
  "nbformat": 4,
  "nbformat_minor": 0,
  "metadata": {
    "colab": {
      "name": "tagger_solutions1-3.ipynb",
      "version": "0.3.2",
      "provenance": [],
      "collapsed_sections": [],
      "toc_visible": true
    },
    "kernelspec": {
      "name": "python3",
      "display_name": "Python 3"
    },
    "accelerator": "GPU"
  },
  "cells": [
    {
      "cell_type": "markdown",
      "metadata": {
        "id": "jLImtw4oo0WV",
        "colab_type": "text"
      },
      "source": [
        "# Sequence Tagging\n",
        "---\n",
        "\n",
        "<font size=\"4\"> Tagging is the task of labelling each word in a sentence. Examples are: Part-of-Speech (POS) tagging, Named Entity Recognition (NER) and Semantic Role Labelling (SRL).\n",
        "  \n",
        "Sequence tagging can be treated as a set of independent classification tasks targeting each individual component of a sequence. However, ideally a model considers context when assigning labels to each component. \n",
        "\n",
        "Formally, the challenge in tagging is to learn a function that maps a sequence of observations x = (<i>x<sub>1</sub>,x<sub>2</sub>,....x<sub>n</sub></i>) to a label sequence y = (<i>y<sub>1</sub>,y<sub>2</sub>,...,y<sub>n</sub></i>), where <i>y<sub>i</sub></i> belongs to a set of tags, which in the case of POS tagging would be Noun, Verb, Adjective, or similar.\n",
        "\n",
        "In some tasks, a chunk in a sequence receives a label, such as <i>Cherno More</i> or <i>Black Sea</i> in \"Cherno More is the Bulgarian name of the Black Sea\". \n",
        "\n",
        "In such cases, it is a standard practice to annotate the data using the <b>IOB scheme</b>.\n",
        "\n",
        "Each element gets a label indicating whether it occurs in the beginning of chunk X (B-X), inside chunk X (I-x) or outside of any chunk (O).\n",
        "\n",
        "Common issues in tagging include:\n",
        "<ul>\n",
        "<li> Large set of features\n",
        "<li> Smaller amount of data\n",
        "<li> Expensive memory and time costs\n",
        "</ul>\n",
        "\n",
        "<br>\n",
        "  \n",
        "---\n",
        "In this notebook, we implement an <b> LSTM-based NER system</b> for CONLL2003 dataset.\n",
        "  \n",
        "</font>"
      ]
    },
    {
      "cell_type": "markdown",
      "metadata": {
        "id": "Hm5ZYINAn6lM",
        "colab_type": "text"
      },
      "source": [
        "## Let's start!\n",
        "---"
      ]
    },
    {
      "cell_type": "code",
      "metadata": {
        "id": "LF8OUxU6jSkE",
        "colab_type": "code",
        "outputId": "96a110da-7015-419b-855c-d74ff5d79328",
        "colab": {
          "base_uri": "https://localhost:8080/",
          "height": 122
        }
      },
      "source": [
        "# The following two lines authorises access to Google Drive:\n",
        "from google.colab import drive\n",
        "drive.mount('/content/drive/')\n",
        "\n",
        "import warnings\n",
        "warnings.filterwarnings('ignore')"
      ],
      "execution_count": 0,
      "outputs": [
        {
          "output_type": "stream",
          "text": [
            "Go to this URL in a browser: https://accounts.google.com/o/oauth2/auth?client_id=947318989803-6bn6qk8qdgf4n4g3pfee6491hc0brc4i.apps.googleusercontent.com&redirect_uri=urn%3Aietf%3Awg%3Aoauth%3A2.0%3Aoob&scope=email%20https%3A%2F%2Fwww.googleapis.com%2Fauth%2Fdocs.test%20https%3A%2F%2Fwww.googleapis.com%2Fauth%2Fdrive%20https%3A%2F%2Fwww.googleapis.com%2Fauth%2Fdrive.photos.readonly%20https%3A%2F%2Fwww.googleapis.com%2Fauth%2Fpeopleapi.readonly&response_type=code\n",
            "\n",
            "Enter your authorization code:\n",
            "··········\n",
            "Mounted at /content/drive/\n"
          ],
          "name": "stdout"
        }
      ]
    },
    {
      "cell_type": "code",
      "metadata": {
        "id": "WJnwvlt7jffE",
        "colab_type": "code",
        "outputId": "8abd2ec0-98c2-4ebe-fd6f-2e1bcbbaccc2",
        "colab": {
          "base_uri": "https://localhost:8080/",
          "height": 34
        }
      },
      "source": [
        "import numpy as np\n",
        "import time\n",
        "import pdb\n",
        "import torch\n",
        "import gensim\n",
        "import torch.nn as nn\n",
        "import torch.optim as optim\n",
        "import torch.nn.functional as F\n",
        "from torch.utils.data import Dataset, DataLoader\n",
        "from torch.nn.utils.rnn import pack_padded_sequence, pad_packed_sequence\n",
        "\n",
        "use_cuda = torch.cuda.is_available()\n",
        "print(\"cuda device {}available\".format(\"\" if use_cuda else \"un\"))\n",
        "device = torch.device(\"cuda:0\" if use_cuda else \"cpu\")\n",
        "\n",
        "# Parameters\n",
        "EMBEDDING_DIM = 300\n",
        "HIDDEN_DIM = 200\n",
        "BATCH_SIZE = 128 #300\n",
        "EPOCHS = 50\n",
        "LSTM_DROPOUT = 0.3\n",
        "\n",
        "# data dir\n",
        "data_folder = \"/content/drive/My Drive/DLinNLP/Data\"\n",
        "# embeddings folder \n",
        "embed_folder = \"/content/drive/My Drive/DLinNLP/Embeddings\""
      ],
      "execution_count": 0,
      "outputs": [
        {
          "output_type": "stream",
          "text": [
            "cuda device available\n"
          ],
          "name": "stdout"
        }
      ]
    },
    {
      "cell_type": "code",
      "metadata": {
        "id": "i5LOm8PwpS3E",
        "colab_type": "code",
        "colab": {}
      },
      "source": [
        "word2vec_file = embed_folder+'/vectors.txt'\n",
        "#embedding_matrix = load_pretrained(word2vec_file)\n",
        "model = gensim.models.KeyedVectors.load_word2vec_format(word2vec_file)\n"
      ],
      "execution_count": 0,
      "outputs": []
    },
    {
      "cell_type": "markdown",
      "metadata": {
        "id": "-GWyxC9mu32c",
        "colab_type": "text"
      },
      "source": [
        "## Data Format\n",
        "---\n",
        "<font size=\"4\"> One standard file format for representing tagged pieces of text is CONLL. \n",
        "  \n",
        "A CONLL file contains one token per line and an empty line indicating the end of a sentence. Each token may be annotated by several tab-separated columns indicating information about the token (e.g. token raw form) or differrent tags assigned to it (e.g. syntactic and morphological labels).\n",
        "</font>\n",
        "\n",
        "<P>\n",
        "<table align=\"left\" style=\"width:100%\">\n",
        "  <tr>\n",
        "    <td>Welsh</td>\n",
        "    <td>NNP</td> \n",
        "    <td>B-NP</td>\n",
        "    <td><b>B-ORG</td>\n",
        "  </tr>\n",
        "  <tr>\n",
        "    <td>National</td>\n",
        "    <td>NNP</td> \n",
        "    <td>I-NP</td>\n",
        "    <td><b>I-ORG</td>\n",
        "  </tr>\n",
        "  <tr>\n",
        "    <td>Farmers</td>\n",
        "    <td>NNP</td> \n",
        "    <td>I-NP</td>\n",
        "    <td><b>I-ORG</td>\n",
        "  </tr>\n",
        "  <tr>\n",
        "    <td>'</td>\n",
        "    <td>POS</td> \n",
        "    <td>B-NP</td>\n",
        "    <td><b>I-ORG</td>\n",
        "  </tr>\n",
        "  <tr>\n",
        "    <td>Union</td>\n",
        "    <td>NNP</td> \n",
        "    <td>I-NP</td>\n",
        "    <td><b>I-ORG</td>\n",
        "  </tr>\n",
        "  <tr>\n",
        "    <td>(</td>\n",
        "    <td>(</td> \n",
        "    <td>O</td>\n",
        "    <td><b>O</td>\n",
        "  </tr>\n",
        "  <tr>\n",
        "    <td>NFU</td>\n",
        "    <td>NNP</td> \n",
        "    <td>B-NP</td>\n",
        "    <td><b>B-ORG</td>\n",
        "  </tr>\n",
        "  <tr>\n",
        "    <td>)</td>\n",
        "    <td>)</td> \n",
        "    <td>O</td>\n",
        "    <td><b>O</td>\n",
        "  </tr>\n",
        "  <tr>\n",
        "    <td>chairman</td>\n",
        "    <td>NN</td> \n",
        "    <td>B-NP</td>\n",
        "    <td><b>O</td>\n",
        "  </tr>\n",
        "  <tr>\n",
        "    <td>John</td>\n",
        "    <td>NNP</td> \n",
        "    <td>I-NP</td>\n",
        "    <td><b>B-PER</td>\n",
        "  </tr>\n",
        "  <tr>\n",
        "    <td>Lloyd</td>\n",
        "    <td>NNP</td> \n",
        "    <td>I-NP</td>\n",
        "    <td><b>I-PER</td>\n",
        "  </tr>\n",
        "  <tr>\n",
        "    <td>said</td>\n",
        "    <td>VBD</td> \n",
        "    <td>B-VP</td>\n",
        "    <td><b>O</td>\n",
        "  </tr>\n",
        "  <tr>\n",
        "    <td>on</td>\n",
        "    <td>IN</td> \n",
        "    <td>B-PP</td>\n",
        "    <td><b>O</td>\n",
        "  </tr>\n",
        "  <tr>\n",
        "    <td>BBC</td>\n",
        "    <td>NNP</td> \n",
        "    <td>B-NP</td>\n",
        "    <td><b>B-ORG</td>\n",
        "  </tr>\n",
        "  <tr>\n",
        "    <td>radio</td>\n",
        "    <td>NN</td> \n",
        "    <td>I-NP</td>\n",
        "    <td><b>I-ORG</td>\n",
        "  </tr>\n",
        "  <tr>\n",
        "    <td>.</td>\n",
        "    <td>.</td> \n",
        "    <td>O</td>\n",
        "    <td><b>O</b></td>\n",
        "  </tr>\n",
        "  <tr>\n",
        "    <td><br></tr>\n",
        "    <td><font size=\"4\"> Here, we read the CONLL 2003 dataset! <font></td>\n",
        "  </tr>\n",
        "</table>\n",
        "\n",
        "<br>\n",
        "</P> \n"
      ]
    },
    {
      "cell_type": "code",
      "metadata": {
        "id": "xpafGCXojfcB",
        "colab_type": "code",
        "outputId": "d30df5f0-dc5e-4cf3-fa16-2ff74ed19195",
        "colab": {
          "base_uri": "https://localhost:8080/",
          "height": 85
        }
      },
      "source": [
        "def readfile(filename):\n",
        "    f = open(filename)\n",
        "    sentences = []\n",
        "    sentence = []\n",
        "    for line in f:\n",
        "        if len(line) == 0 or line.startswith('-DOCSTART') or line[0] == \"\\n\":\n",
        "            if len(sentence) > 0:\n",
        "                sentences.append(sentence)\n",
        "                sentence = []\n",
        "            continue\n",
        "        splits = line.split(' ')\n",
        "        sentence.append([splits[0].strip(), splits[-1].strip()])\n",
        "\n",
        "    if len(sentence) > 0:\n",
        "        sentences.append(sentence)\n",
        "        sentence = []\n",
        "    sentences = [tuple(zip(*l)) for l in sentences]\n",
        "    return sentences\n",
        "\n",
        "train_data = np.array(readfile(data_folder+'/train.txt'))\n",
        "dev_data = np.array(readfile(data_folder+'/dev.txt'))\n",
        "test_data = np.array(readfile(data_folder+'/test.txt'))\n",
        "\n",
        "print(\"train_data shape: \",train_data.shape)\n",
        "print(\"One instance of data: \",train_data[0])\n",
        "print(\"dev_data shape: \",dev_data.shape)"
      ],
      "execution_count": 0,
      "outputs": [
        {
          "output_type": "stream",
          "text": [
            "train_data shape:  (14041, 2)\n",
            "One instance of data:  [('EU', 'rejects', 'German', 'call', 'to', 'boycott', 'British', 'lamb', '.')\n",
            " ('B-ORG', 'O', 'B-MISC', 'O', 'O', 'O', 'B-MISC', 'O', 'O')]\n",
            "dev_data shape:  (3250, 2)\n"
          ],
          "name": "stdout"
        }
      ]
    },
    {
      "cell_type": "markdown",
      "metadata": {
        "id": "JXW2CYLTA8zf",
        "colab_type": "text"
      },
      "source": [
        "## Pre-processing \n",
        "---\n",
        "\n",
        "<font size=\"4\">It is common to sort data instances based on their lengths. This way, the lengths of sequences in each batch would be more or less homogeneous. \n",
        "<font>"
      ]
    },
    {
      "cell_type": "code",
      "metadata": {
        "id": "LL_zgRz6jfYi",
        "colab_type": "code",
        "colab": {}
      },
      "source": [
        "# This reordering is useful for padding\n",
        "def tensor_reorder(data):\n",
        "    \"\"\"reorders tensors from longest to shortest\"\"\"\n",
        "    lengths = [len(i[0]) for i in data]\n",
        "    max_len = max(lengths)\n",
        "    lengths = torch.LongTensor(lengths)\n",
        "    lengths, perm_idx = lengths.sort(0, descending=True)\n",
        "    data = data[perm_idx]\n",
        "    return data\n",
        "\n",
        "train_data = tensor_reorder(train_data)\n",
        "dev_data = tensor_reorder(dev_data)\n",
        "test_data = tensor_reorder(test_data)\n",
        "\n",
        "MAX_LEN = max(len(train_data[0][0]), len(dev_data[0][0])) # we set the maximum length from the max seq in train "
      ],
      "execution_count": 0,
      "outputs": []
    },
    {
      "cell_type": "code",
      "metadata": {
        "id": "8wMKVnTrjfWN",
        "colab_type": "code",
        "colab": {}
      },
      "source": [
        "# Here, we create a dictionary that maps all words to indices (for encoding)\n",
        "\n",
        "all_words = list(set([w for sent in np.concatenate((train_data,dev_data), axis=0) for w in sent[0]]))\n",
        "\n",
        "word_to_ix = {t:i+2 for i, t in enumerate(all_words)}\n",
        "\n",
        "word_to_ix['<PAD>'] = 0\n",
        "word_to_ix['<UNK>'] = 1\n",
        "\n",
        "# The tagset is simplified (NE categories not included) \n",
        "tag_to_ix = {'<PAD>':0, 'B-MISC':1, 'B-LOC':1, 'B-ORG':1, 'B-PER':1,\n",
        "             'I-MISC':2, 'I-PER':2, 'I-ORG':2, 'I-LOC':2, 'O':3}\n",
        "ix_to_tag = {0:'<PAD>', 1:'B', 2:'I', 3:'O'}\n",
        "\n",
        "## If we wanted to consider tags in their entirety:\n",
        "# all_tags = list(set([tag for sent_tag in train_data for tag in sent_tag[1]]))\n",
        "# tag_to_ix = {t:i+1 for i, t in enumerate(all_tags)}\n",
        "# tag_to_ix['<PAD>'] = 0\n",
        "# ix_to_tag = {v: k for k, v in tag_to_ix.items()}"
      ],
      "execution_count": 0,
      "outputs": []
    },
    {
      "cell_type": "markdown",
      "metadata": {
        "id": "1WZuAnmVilza",
        "colab_type": "text"
      },
      "source": [
        "## Dataset class and Dataloading\n",
        "---\n",
        "\n",
        "<font size=\"4\">The standard way to represent a dataset in PyTorch is through the `utils.data.Dataset` class. In order to define your dataset, your custom class should inherit from `Dataset` and override the following two methods:\n",
        "    \n",
        "1. `__len__` which returns the size of the dataset  \n",
        "2. `__getitem__` which receives an index `i`, returning the representation for the i*th* sample in the dataset  \n",
        "\n",
        "You can define other arbitrary methods depending on your specific requirements.         \n",
        "    \n",
        "<font>"
      ]
    },
    {
      "cell_type": "code",
      "metadata": {
        "id": "gZ5P-gPUjhRQ",
        "colab_type": "code",
        "colab": {}
      },
      "source": [
        "# This class representa the dataset.\n",
        "class CoNLL2003NER(Dataset):\n",
        "\n",
        "    def __init__(self, X, max_len, word_to_ix, tag_to_ix):\n",
        "        self.X = X\n",
        "        self.max_len = max_len\n",
        "        self.word_to_ix = word_to_ix\n",
        "        self.tag_to_ix = tag_to_ix\n",
        "        \n",
        "    def transform(self, seq, to_ix):\n",
        "        \"\"\"Transorm and prepare one data instance\"\"\"\n",
        "        idxs = [to_ix[w] if w in to_ix else 1 for w in seq]\n",
        "        if len(idxs) >= self.max_len:\n",
        "            # Truncating\n",
        "            idxs = idxs[:self.max_len]    \n",
        "        else:\n",
        "            # Padding\n",
        "            idxs += [0]*(self.max_len-len(seq))\n",
        "        # torch.long tensors are usually used for indexing \n",
        "        return torch.tensor(idxs, dtype=torch.long)\n",
        "\n",
        "    def __len__(self):\n",
        "        \"\"\"Return the length of the dataset\"\"\"\n",
        "        return len(self.X)\n",
        "\n",
        "    def __getitem__(self, idx):\n",
        "        \"\"\"Given an index, return its corresponding item in the dataset\"\"\"\n",
        "        return self.transform(self.X[idx][0],self.word_to_ix), \\\n",
        "               self.transform(self.X[idx][1], self.tag_to_ix)"
      ],
      "execution_count": 0,
      "outputs": []
    },
    {
      "cell_type": "markdown",
      "metadata": {
        "id": "b9DaIIs4rn4H",
        "colab_type": "text"
      },
      "source": [
        "<font size=\"4\"> In order to iterate over a `Dataset` instance, PyTorch provides the `torch.utils.data.DataLoader` which offers the following functionalities:\n",
        "\n",
        "1.   create batches of data to be fed to a network \n",
        "2.   shuffling the data instances \n",
        "3.   loading instances using the multiprocessing workers \n",
        "    <font>"
      ]
    },
    {
      "cell_type": "code",
      "metadata": {
        "id": "e6kv5mDemXfZ",
        "colab_type": "code",
        "colab": {}
      },
      "source": [
        "# Depending on the batch size, `drop_last` might be set to `True` in order to drop the final smaller batch.\n",
        "\n",
        "params = {'batch_size': BATCH_SIZE,\n",
        "          'shuffle': False,\n",
        "          'num_workers': 6,\n",
        "          'drop_last':True}\n",
        "\n",
        "params_test = {'batch_size': 1, # batch is set to 1 not to drop any instances here\n",
        "          'shuffle': False,\n",
        "          'num_workers': 6,\n",
        "          'drop_last':True}\n",
        "\n",
        "train_data = CoNLL2003NER(train_data, MAX_LEN, word_to_ix, tag_to_ix)\n",
        "train_data_generator = DataLoader(train_data, **params)\n",
        "\n",
        "dev_data = CoNLL2003NER(dev_data, MAX_LEN, word_to_ix, tag_to_ix)\n",
        "dev_data_generator = DataLoader(dev_data, **params)\n",
        "\n",
        "test_data = CoNLL2003NER(test_data, MAX_LEN, word_to_ix, tag_to_ix)\n",
        "test_data_generator = DataLoader(test_data, **params_test)"
      ],
      "execution_count": 0,
      "outputs": []
    },
    {
      "cell_type": "code",
      "metadata": {
        "id": "XWyZNaTSgNOV",
        "colab_type": "code",
        "outputId": "729d79f7-aa9a-45ae-e4da-85521024af87",
        "colab": {
          "base_uri": "https://localhost:8080/",
          "height": 306
        }
      },
      "source": [
        "train_data.__getitem__(0)"
      ],
      "execution_count": 0,
      "outputs": [
        {
          "output_type": "execute_result",
          "data": {
            "text/plain": [
              "(tensor([ 4757, 11012, 20381,  3528, 16663, 14483,  1954, 16643, 18126, 23948,\n",
              "         24750, 13725, 18917,  4248, 21781, 25140, 17692, 23409, 14216,  1506,\n",
              "         25068, 21582,  1506, 17692, 16081,   408,   407, 14509, 21414, 16493,\n",
              "         14216, 17692, 13618, 21582, 21361, 10516, 14509, 20228, 14216, 17692,\n",
              "         14509, 23094, 21582, 21361, 22118, 24443, 11767, 14216, 17692, 14509,\n",
              "          7699, 21582, 21361,  7953,  1211, 14509, 12764, 21435, 21582, 17692,\n",
              "         13618, 14216, 21361,  1035,  6856, 14216, 17692, 14509,  2213, 21582,\n",
              "         17692,  4876, 13618, 14216, 17692, 14509,  5847, 21582, 21361, 21764,\n",
              "         14509, 14819, 14216, 17692, 13618, 21582, 21361,  1890,  9196, 14216,\n",
              "         17692, 14509,  3596, 21582, 21361, 18492,  1211, 14509, 18982, 21435,\n",
              "         14216, 17692, 13618, 21582, 21361, 19429, 14509,    17, 14216, 17692,\n",
              "         13618, 21582,  6366]),\n",
              " tensor([3, 3, 3, 1, 3, 3, 3, 3, 3, 3, 3, 3, 3, 3, 3, 3, 3, 3, 3, 3, 3, 3, 3, 3,\n",
              "         3, 3, 3, 3, 3, 3, 3, 3, 3, 3, 3, 3, 3, 3, 3, 3, 3, 3, 3, 3, 3, 3, 3, 3,\n",
              "         3, 3, 3, 3, 3, 3, 3, 3, 3, 3, 3, 3, 3, 3, 3, 3, 3, 3, 3, 3, 3, 3, 3, 3,\n",
              "         3, 3, 3, 3, 3, 3, 3, 3, 3, 3, 3, 3, 3, 3, 3, 3, 3, 3, 3, 3, 3, 3, 3, 3,\n",
              "         3, 3, 3, 3, 3, 3, 3, 3, 3, 3, 3, 3, 3, 3, 3, 3, 3]))"
            ]
          },
          "metadata": {
            "tags": []
          },
          "execution_count": 8
        }
      ]
    },
    {
      "cell_type": "code",
      "metadata": {
        "id": "QXPwobRmmXdf",
        "colab_type": "code",
        "outputId": "d64f3adf-b7b8-4073-c481-b931a2fd1718",
        "colab": {
          "base_uri": "https://localhost:8080/",
          "height": 34
        }
      },
      "source": [
        "### TO DO #3 Solution ###   \n",
        "# Loading pre-trained embbeding\n",
        "# fill embedding_matrix\n",
        "USE_PRETRAINED = True\n",
        "def load_pretrained(file):\n",
        "    \"\"\"load a weight matrix from pre-trained weights\"\"\"\n",
        "    model = gensim.models.KeyedVectors.load_word2vec_format(file)\n",
        "    embedding_dimension = model.vector_size \n",
        "    embedding_matrix = np.zeros((len(word_to_ix), EMBEDDING_DIM))   \n",
        "    UNKOWN = np.random.uniform(-1, 1, embedding_dimension) \n",
        "\n",
        "    for word, i in word_to_ix.items():\n",
        "        if word in model.vocab:\n",
        "            embedding_matrix[i] = model[word] \n",
        "        else:\n",
        "            embedding_matrix[i] = UNKOWN\n",
        "\n",
        "    embedding_matrix[word_to_ix['<PAD>']] = np.zeros((embedding_dimension))\n",
        "    embedding_matrix = torch.from_numpy(embedding_matrix).type(torch.FloatTensor)\n",
        "    return embedding_matrix\n",
        "\n",
        "if USE_PRETRAINED:\n",
        "    word2vec_file = embed_folder+'/vectors.txt'\n",
        "    embedding_matrix = load_pretrained(word2vec_file)\n",
        "    print('embedings loaded...')"
      ],
      "execution_count": 0,
      "outputs": [
        {
          "output_type": "stream",
          "text": [
            "embedings loaded...\n"
          ],
          "name": "stdout"
        }
      ]
    },
    {
      "cell_type": "markdown",
      "metadata": {
        "id": "_P8G0y54rpr8",
        "colab_type": "text"
      },
      "source": [
        "## Define the Model\n",
        "\n",
        "<font size=\"4\"> In PyTorch, models are defined by creating classes that inherit from `torch.nn.Module`. Defining a model involves two critical steps:\n",
        "    \n",
        "\n",
        "1.   Specifying the components of the model in the `__init__` constructor\n",
        "2.   Outlining the way these components interact in the `forward` method\n",
        "  </font>"
      ]
    },
    {
      "cell_type": "code",
      "metadata": {
        "id": "1Gm5mWQlmXbV",
        "colab_type": "code",
        "colab": {}
      },
      "source": [
        "# A simple LSTM Tagger\n",
        "class LSTMTagger(nn.Module):\n",
        "\n",
        "    def __init__(self, embedding_dim, hidden_dim, vocab_size, tagset_size, max_len):\n",
        "        super(LSTMTagger, self).__init__()\n",
        "        \n",
        "        # load weights from pre-trained vectors or with random initialization\n",
        "        if not USE_PRETRAINED:\n",
        "            self.word_embeddings = nn.Embedding(vocab_size, embedding_dim) \n",
        "        else:  \n",
        "            # load weights from pre-trained vectors \n",
        "            self.word_embeddings = nn.Embedding.from_pretrained(embedding_matrix, freeze=False) \n",
        "                                                                # freeze default is True            \n",
        "        ### TO DO #4 Solution ### \n",
        "        ### Character Embedding ###\n",
        "           \n",
        "        self.lstm = nn.LSTM(embedding_dim, hidden_dim, batch_first=True, dropout=LSTM_DROPOUT)\n",
        "        \n",
        "        ### TO DO #5 ####\n",
        "        ### bi_directional LSTM\n",
        "        ### Add other layers to the Model ###\n",
        "   \n",
        "        # The linear layer that maps from hidden space to tag space\n",
        "        self.hidden2tag = nn.Linear(hidden_dim, tagset_size)\n",
        "\n",
        "    def forward(self, sentence): \n",
        "        embeds = self.word_embeddings(sentence)     # SHAPE: [BATCH_SIZE,MAX_LEN,WORD_EMBEDDING_DIM]\n",
        "        \n",
        "        ### TO DO ####   (10 min)\n",
        "        # Add packed padded sequences to help the loss ignores computation for PAD labeld\n",
        "        \n",
        "        lstm_out, _ = self.lstm(embeds)\n",
        "\n",
        "        tag_space = self.hidden2tag(lstm_out)\n",
        "        tag_scores = F.log_softmax(tag_space, dim=1) \n",
        "        return tag_scores"
      ],
      "execution_count": 0,
      "outputs": []
    },
    {
      "cell_type": "code",
      "metadata": {
        "id": "wBoxn3i6mXX_",
        "colab_type": "code",
        "outputId": "474fe35b-326a-4abd-eda2-d97ba09ffcdd",
        "colab": {
          "base_uri": "https://localhost:8080/",
          "height": 102
        }
      },
      "source": [
        "model = LSTMTagger(EMBEDDING_DIM, HIDDEN_DIM, len(word_to_ix), len(ix_to_tag), MAX_LEN).to(device)\n",
        "\n",
        "# The negative log likelihood loss. \n",
        "# It is useful to train a classification problem with C classes.\n",
        "loss_function = nn.NLLLoss(ignore_index=0)  \n",
        "optimizer = optim.Adam(model.parameters(), lr = 0.001) \n",
        "\n",
        "print(model)"
      ],
      "execution_count": 0,
      "outputs": [
        {
          "output_type": "stream",
          "text": [
            "LSTMTagger(\n",
            "  (word_embeddings): Embedding(26885, 300)\n",
            "  (lstm): LSTM(300, 200, batch_first=True, dropout=0.3)\n",
            "  (hidden2tag): Linear(in_features=200, out_features=4, bias=True)\n",
            ")\n"
          ],
          "name": "stdout"
        }
      ]
    },
    {
      "cell_type": "code",
      "metadata": {
        "id": "8oG8FVrcmXMU",
        "colab_type": "code",
        "colab": {}
      },
      "source": [
        "### TO DO #1 Solution ###\n",
        "# Write an early stopping procedure\n",
        "\n",
        "def early_stop(losses, patience):\n",
        "    \"\"\"stop execution if there is consecutive decline/stagnation in the loss values.\n",
        "       patience determines how quickly we take action. \n",
        "    \"\"\"\n",
        "    stop = False\n",
        "    patience += 1\n",
        "    if len(losses)>patience and min(losses[-patience:])==losses[-patience]:\n",
        "        stop = True\n",
        "    return stop"
      ],
      "execution_count": 0,
      "outputs": []
    },
    {
      "cell_type": "markdown",
      "metadata": {
        "id": "l-ZspVZwFLMy",
        "colab_type": "text"
      },
      "source": [
        "## Training\n",
        "\n",
        "<font size=\"4\">In PyTorch, you have control over all the stages of the training, from iteration over the data, to adjusting the gradients, calculating the loss and backpropagation given the computed loss. \n",
        "\n",
        "The training procedure involves two for-loops. The inner loop is over the batches of the data. Here is where per-batch loss is computed and model parameters are updated using an optimizer. \n",
        "\n",
        "The inner loop is composed of the following essential steps:\n",
        "\n",
        "1. Clear the gradients. Remember that gradients accumulate over time. In each batch, they need to be reset.  \n",
        "\n",
        "2. Run forward pass and generate an output. \n",
        "\n",
        "3. Pass the output and the gold-standard training labels to the loss function to estimate the degree of deviation from the true labels.   \n",
        "\n",
        "4. Call the `backward()` method on the loss object. This will compute gradients $\\frac{\\partial loss}{\\partial x}$ for every parameter x whose `requires_grad` is set to `True`. In order words, the backward method `back propagates` gradients to each parameter.\n",
        "\n",
        "5. Perform parameter updates by calling `optimizer.step()`. The optimizer is dependent on the computed gradients to perform this operation. \n",
        "\n",
        "The outer loop repeats the inner one for the specified number of epochs. Note that the training procedure should happen in the `training` mode which is set in the beginning of the outer loop.   <font>\n",
        "  \n",
        "### Validation\n",
        "<font size=\"4\"> In each iteration of the training, we can monitor how well the model is learning, by testing it on the hold-out validation data. It is important to set the model mode to `eval` in order to avoid updating the parameters. This is to ensure the model is not overfitting on the training data or find the best parameters for the model. <br />\n",
        "\n",
        "We record all the epoch-based validation and training losses to be able to plot the changes over time.  \n",
        "<font>\n",
        "  "
      ]
    },
    {
      "cell_type": "code",
      "metadata": {
        "id": "LnB2nxhJmXC_",
        "colab_type": "code",
        "outputId": "667c69b8-b23a-43ec-e4d5-9fdbffd29cc8",
        "colab": {
          "base_uri": "https://localhost:8080/",
          "height": 1000
        }
      },
      "source": [
        "def trainer(model, epochs):\n",
        "    \"\"\"train the model for the specified # of epochs\"\"\"\n",
        "    \n",
        "\n",
        "    batch_losses = []\n",
        "    valid_losses = []\n",
        "    \n",
        "    avg_train_losses = []\n",
        "    avg_valid_losses = [] \n",
        "    \n",
        "    best_valid_loss = 1000\n",
        "    best_state_dict = dict()\n",
        "    for epoch in range(epochs):\n",
        "        \n",
        "                ################\n",
        "                ## train mode ##\n",
        "                ################\n",
        "        model.train() # set the model to training mode  \n",
        "        print('Epoch:', epoch+1)\n",
        "        t0 = time.time()\n",
        "        \n",
        "        n_correct, n_total = 0, 0\n",
        "        for sentences, tags in train_data_generator:\n",
        "            sentences, tags = sentences.to(device), tags.to(device)\n",
        "            \n",
        "            # clear gradients \n",
        "            model.zero_grad()\n",
        "\n",
        "            # Run forward pass\n",
        "            predictions = model(sentences)\n",
        "            \n",
        "            # compute the loss, gradients, and update the parameters\n",
        "            predictions = predictions.permute(0,2,1)       # loss presumes labels to come 2nd (hence the permute)\n",
        "            batch_loss = loss_function(predictions, tags)  # This computes average loss over all instances of the batch \n",
        "            batch_losses.append(batch_loss.item())\n",
        "            \n",
        "            # compute number of correct predictions per epoch   \n",
        "            outputs = torch.argmax(predictions, dim=1)        \n",
        "            \n",
        "            n_correct += torch.sum(outputs==tags, dtype=torch.float)\n",
        "            n_total += float(tags.size(0) * tags.size(1))  # denominator: batch_size * max_len (e.g. 100 * 52)\n",
        "            \n",
        "            batch_loss.backward()\n",
        "            optimizer.step()\n",
        "        \n",
        "        epoch_acc = n_correct/n_total\n",
        "        epoch_loss = np.average(batch_losses)\n",
        "        avg_train_losses.append(epoch_loss) # for keeping track of avg train losses\n",
        "  \n",
        "                ################\n",
        "                ## eval mode ###\n",
        "                ################\n",
        "        model.eval() # set the model to eval mode\n",
        "        for valid_sentences, valid_tags in dev_data_generator:\n",
        "            valid_sentences, valid_tags = valid_sentences.to(device), valid_tags.to(device)\n",
        "            \n",
        "            # Run forward pass. Note since we are in eval mode, we don't need to set grad to zero  \n",
        "            valid_predictions = model(valid_sentences)\n",
        "            valid_predictions = valid_predictions.permute(0,2,1)\n",
        "            # calculate the average loss \n",
        "            valid_batch_loss = loss_function(valid_predictions, valid_tags)\n",
        "            valid_losses.append(valid_batch_loss.item())\n",
        "            \n",
        "        valid_loss = np.average(valid_losses)\n",
        "        avg_valid_losses.append(valid_loss)\n",
        "        if valid_loss < best_valid_loss:\n",
        "            best_state_dict = model.state_dict()\n",
        "        \n",
        "        t = time.time()\n",
        "        print('epoch loss: {}\\tepoch acc: {}\\tvalid loss:{}\\ttime:{}'.format(epoch_loss, epoch_acc.item(), valid_loss, t-t0))\n",
        "        \n",
        "        ### TO DO #1 Solution ###    (10 min)\n",
        "        # Early Stopping\n",
        "        # end training if validation losses stagnate/increase \n",
        "        if early_stop(avg_valid_losses, patience=3):\n",
        "            print(\"Early stopping...\")\n",
        "            break\n",
        "        \n",
        "        ### TO DO #2 Solution ###    (5 min)\n",
        "        # Saving the best Model\n",
        "    model.load_state_dict(best_state_dict)\n",
        "    torch.save(model.state_dict(), '/content/drive/My Drive/DLinNLP/best_model_state.pkl')\n",
        "    \n",
        "    return model, avg_train_losses, avg_valid_losses \n",
        "            \n",
        "model, avg_train_losses, avg_valid_losses = trainer(model, EPOCHS)"
      ],
      "execution_count": 0,
      "outputs": [
        {
          "output_type": "stream",
          "text": [
            "Epoch: 1\n",
            "epoch loss: 2.4052562981570533\tepoch acc: 0.9191297888755798\tvalid loss:4.78363128900528\ttime:8.337628364562988\n",
            "Epoch: 2\n",
            "epoch loss: 2.345633979989301\tepoch acc: 0.9460336565971375\tvalid loss:3.46062136054039\ttime:8.106787919998169\n",
            "Epoch: 3\n",
            "epoch loss: 2.205983897050222\tepoch acc: 0.9770807027816772\tvalid loss:2.9967818440993628\ttime:8.092079162597656\n",
            "Epoch: 4\n",
            "epoch loss: 2.125455922968344\tepoch acc: 0.9833442568778992\tvalid loss:2.7623891273140906\ttime:8.084383726119995\n",
            "Epoch: 5\n",
            "epoch loss: 2.074918691690909\tepoch acc: 0.9848214983940125\tvalid loss:2.6216709421873094\ttime:8.158266067504883\n",
            "Epoch: 6\n",
            "epoch loss: 2.040332614236286\tepoch acc: 0.9853206872940063\tvalid loss:2.527826256453991\ttime:8.139852046966553\n",
            "Epoch: 7\n",
            "epoch loss: 2.015204827915169\tepoch acc: 0.985835075378418\tvalid loss:2.4608064922264643\ttime:8.103968381881714\n",
            "Epoch: 8\n",
            "epoch loss: 1.9960847996995537\tepoch acc: 0.9861845970153809\tvalid loss:2.410801376402378\ttime:8.078259229660034\n",
            "Epoch: 9\n",
            "epoch loss: 1.9810023289952317\tepoch acc: 0.9865042567253113\tvalid loss:2.37237580411964\ttime:8.13823938369751\n",
            "Epoch: 10\n",
            "epoch loss: 1.9687915916426466\tepoch acc: 0.9866488575935364\tvalid loss:2.3414935823082925\ttime:8.134414672851562\n",
            "Epoch: 11\n",
            "epoch loss: 1.95869975924815\tepoch acc: 0.9868448972702026\tvalid loss:2.316126188256524\ttime:8.159536361694336\n",
            "Epoch: 12\n",
            "epoch loss: 1.9502091622862976\tepoch acc: 0.9870110750198364\tvalid loss:2.2959392128388085\ttime:8.137018203735352\n",
            "Epoch: 13\n",
            "epoch loss: 1.9429669423987097\tepoch acc: 0.9870713353157043\tvalid loss:2.2785690651948634\ttime:8.136350870132446\n",
            "Epoch: 14\n",
            "epoch loss: 1.9367046149235174\tepoch acc: 0.9871119260787964\tvalid loss:2.263949307160718\ttime:8.122432470321655\n",
            "Epoch: 15\n",
            "epoch loss: 1.9312431597381556\tepoch acc: 0.98714679479599\tvalid loss:2.251300870378812\ttime:8.161851406097412\n",
            "Epoch: 16\n",
            "epoch loss: 1.9264259028222857\tepoch acc: 0.987288236618042\tvalid loss:2.2402088682726027\ttime:8.137883424758911\n",
            "Epoch: 17\n",
            "epoch loss: 1.9221456074153354\tepoch acc: 0.9873358011245728\tvalid loss:2.2305915339904674\ttime:8.162293910980225\n",
            "Epoch: 18\n",
            "epoch loss: 1.9183165652831213\tepoch acc: 0.9874734282493591\tvalid loss:2.221995951367749\ttime:8.166914224624634\n",
            "Epoch: 19\n",
            "epoch loss: 1.9148701283377418\tepoch acc: 0.9875425696372986\tvalid loss:2.2142928243938247\ttime:8.15422534942627\n",
            "Epoch: 20\n",
            "epoch loss: 1.911748604418351\tepoch acc: 0.9876497983932495\tvalid loss:2.2076617170274258\ttime:8.146857976913452\n",
            "Epoch: 21\n",
            "epoch loss: 1.9089098237438618\tepoch acc: 0.9876440763473511\tvalid loss:2.2016151175612495\ttime:8.159284591674805\n",
            "Epoch: 22\n",
            "epoch loss: 1.9063094566771146\tepoch acc: 0.987814724445343\tvalid loss:2.1964123026620257\ttime:8.153210878372192\n",
            "Epoch: 23\n",
            "epoch loss: 1.9039239354660467\tepoch acc: 0.9879295229911804\tvalid loss:2.191603749031606\ttime:8.14845085144043\n",
            "Epoch: 24\n",
            "epoch loss: 1.9017243948295166\tepoch acc: 0.9878813028335571\tvalid loss:2.18730512196819\ttime:8.178003072738647\n",
            "Epoch: 25\n",
            "epoch loss: 1.8996920779238053\tepoch acc: 0.9881070852279663\tvalid loss:2.183260112977028\ttime:8.167480230331421\n",
            "Epoch: 26\n",
            "epoch loss: 1.8978095741767698\tepoch acc: 0.9880836606025696\tvalid loss:2.1795588220541293\ttime:8.179340839385986\n",
            "Epoch: 27\n",
            "epoch loss: 1.8960640830751425\tepoch acc: 0.9880392551422119\tvalid loss:2.17604131868592\ttime:8.209856033325195\n",
            "Epoch: 28\n",
            "epoch loss: 1.894435198948295\tepoch acc: 0.9881533980369568\tvalid loss:2.172951646362032\ttime:8.20685338973999\n",
            "Epoch: 29\n",
            "epoch loss: 1.8929131997514095\tepoch acc: 0.9882676005363464\tvalid loss:2.170145358546027\ttime:8.189173460006714\n",
            "Epoch: 30\n",
            "epoch loss: 1.891489040518937\tepoch acc: 0.9881908297538757\tvalid loss:2.167442381878694\ttime:8.160902738571167\n",
            "Epoch: 31\n",
            "epoch loss: 1.8901546344527058\tepoch acc: 0.9881958961486816\tvalid loss:2.1650904985589365\ttime:8.17834186553955\n",
            "Epoch: 32\n",
            "epoch loss: 1.8889076113572703\tepoch acc: 0.9880449175834656\tvalid loss:2.163048212788999\ttime:8.167811870574951\n",
            "Epoch: 33\n",
            "epoch loss: 1.8877239378750705\tepoch acc: 0.988120436668396\tvalid loss:2.161090852961396\ttime:8.140943050384521\n",
            "Epoch: 34\n",
            "epoch loss: 1.8866059142237763\tepoch acc: 0.9880690574645996\tvalid loss:2.159288963728091\ttime:8.154361248016357\n",
            "Epoch: 35\n",
            "epoch loss: 1.8855462399371172\tepoch acc: 0.9882396459579468\tvalid loss:2.1573949251685822\ttime:8.135304927825928\n",
            "Epoch: 36\n",
            "epoch loss: 1.8845402097555446\tepoch acc: 0.9883728623390198\tvalid loss:2.1557443076206577\ttime:8.144225597381592\n",
            "Epoch: 37\n",
            "epoch loss: 1.883586706279112\tepoch acc: 0.988473117351532\tvalid loss:2.1542650172839295\ttime:8.149776458740234\n",
            "Epoch: 38\n",
            "epoch loss: 1.8826822720752252\tepoch acc: 0.9885891675949097\tvalid loss:2.152921779045933\ttime:8.157529354095459\n",
            "Epoch: 39\n",
            "epoch loss: 1.881823601881649\tepoch acc: 0.9886139035224915\tvalid loss:2.1517300955913004\ttime:8.187628984451294\n",
            "Epoch: 40\n",
            "epoch loss: 1.8810074791260951\tepoch acc: 0.9886062741279602\tvalid loss:2.150623961046338\ttime:8.167221784591675\n",
            "Epoch: 41\n",
            "epoch loss: 1.8802321470538677\tepoch acc: 0.9885841012001038\tvalid loss:2.1495234154782645\ttime:8.164525508880615\n",
            "Epoch: 42\n",
            "epoch loss: 1.879489823970773\tepoch acc: 0.9885644316673279\tvalid loss:2.1484018176794053\ttime:8.15720272064209\n",
            "Epoch: 43\n",
            "epoch loss: 1.878781279583577\tepoch acc: 0.9886468648910522\tvalid loss:2.147654248919598\ttime:8.164710760116577\n",
            "Epoch: 44\n",
            "epoch loss: 1.878104508862993\tepoch acc: 0.9886595606803894\tvalid loss:2.1467367252301086\ttime:8.133960247039795\n",
            "Epoch: 45\n",
            "epoch loss: 1.877459669385056\tepoch acc: 0.9888029098510742\tvalid loss:2.145943462252617\ttime:8.145607233047485\n",
            "Epoch: 46\n",
            "epoch loss: 1.8768447787906954\tepoch acc: 0.9883652329444885\tvalid loss:2.1450963562338248\ttime:8.193331241607666\n",
            "Epoch: 47\n",
            "epoch loss: 1.8762517206700966\tepoch acc: 0.9884832501411438\tvalid loss:2.1444218405764155\ttime:8.15293836593628\n",
            "Epoch: 48\n",
            "epoch loss: 1.8756837617286939\tepoch acc: 0.9884337782859802\tvalid loss:2.1434636930003763\ttime:8.159290790557861\n",
            "Epoch: 49\n",
            "epoch loss: 1.8751355222625314\tepoch acc: 0.9885815382003784\tvalid loss:2.142801696402686\ttime:8.167442798614502\n",
            "Epoch: 50\n",
            "epoch loss: 1.8746095580860562\tepoch acc: 0.9884293079376221\tvalid loss:2.142109948158264\ttime:8.131519556045532\n"
          ],
          "name": "stdout"
        }
      ]
    },
    {
      "cell_type": "code",
      "metadata": {
        "id": "Aa4vzoEReMeB",
        "colab_type": "code",
        "outputId": "8c92153e-6cc9-4a5c-9367-2d251988e41b",
        "colab": {
          "base_uri": "https://localhost:8080/",
          "height": 392
        }
      },
      "source": [
        "# Visualizing the loss as the network trained\n",
        "\n",
        "import matplotlib.pyplot as plt\n",
        "\n",
        "fig = plt.figure(figsize=(8,6))\n",
        "\n",
        "plt.plot(range(1,len(avg_train_losses)+1),avg_train_losses, label='Training Loss')\n",
        "plt.plot(range(1,len(avg_valid_losses)+1),avg_valid_losses,label='Validation Loss')\n",
        "\n",
        "plt.xlabel('epochs')\n",
        "plt.ylabel('loss')\n",
        "\n",
        "# find position of lowest validation loss\n",
        "minposs = avg_valid_losses.index(min(avg_valid_losses))+1 \n",
        "plt.axvline(minposs, linestyle='--', color='r',label='Early Stopping')\n",
        "\n",
        "plt.grid(True)\n",
        "plt.legend()\n",
        "\n",
        "plt.show()"
      ],
      "execution_count": 0,
      "outputs": [
        {
          "output_type": "display_data",
          "data": {
            "image/png": "[encoded data removed]",
            "text/plain": [
              "<Figure size 576x432 with 1 Axes>"
            ]
          },
          "metadata": {
            "tags": []
          }
        }
      ]
    },
    {
      "cell_type": "markdown",
      "metadata": {
        "id": "_B4YGlBUVEF-",
        "colab_type": "text"
      },
      "source": [
        "## Test\n",
        "<font size=\"4\">\n",
        "  Now you can compute the performance of the model on the unseen test data.\n",
        "  \n",
        "  </font>"
      ]
    },
    {
      "cell_type": "code",
      "metadata": {
        "id": "j9XRK1GJSjBc",
        "colab_type": "code",
        "colab": {}
      },
      "source": [
        "# define evaluation metrics (acc, precision, recall, and f1-score)\n",
        "from sklearn.metrics import precision_recall_fscore_support\n",
        "\n",
        "class Evaluate():\n",
        "    def __init__(self, out, labels):\n",
        "        self.out = out.numpy().flatten()\n",
        "        self.labels = labels.numpy().flatten()\n",
        "    def accuracy(self):\n",
        "        nb_correct = sum(y_t==y_p for y_t, y_p in zip(self.labels, self.out))\n",
        "        nb_true = len(self.labels)\n",
        "        score = nb_correct / nb_true\n",
        "        return score\n",
        "    def precision_recall_fscore(self, tag_list, average='macro'):\n",
        "        return precision_recall_fscore_support(self.labels, self.out, \n",
        "                                                  average=average,labels=tag_list)[:-1]"
      ],
      "execution_count": 0,
      "outputs": []
    },
    {
      "cell_type": "code",
      "metadata": {
        "id": "5tWDZVOimW6L",
        "colab_type": "code",
        "outputId": "0cbd5395-7818-4967-8859-3d4b1aa0a531",
        "colab": {
          "base_uri": "https://localhost:8080/",
          "height": 235
        }
      },
      "source": [
        "# evaluate the model on test set \n",
        "\n",
        "model.load_state_dict(torch.load('/content/drive/My Drive/DLinNLP/best_model_state.pkl'))\n",
        "\n",
        "all_preds = torch.LongTensor().to(device)\n",
        "all_labels = torch.LongTensor().to(device)\n",
        "\n",
        "with torch.no_grad():\n",
        "    for sent, target in test_data_generator:\n",
        "        sent, target = sent.to(device), target.to(device)\n",
        "        tag_scores = model(sent)\n",
        "        \n",
        "        predict = tag_scores.data.max(2, keepdim=True)[1]        \n",
        "        all_preds = torch.cat([all_preds, predict])\n",
        "        all_labels = torch.cat([all_labels,target])\n",
        "    \n",
        "    all_preds, all_labels = all_preds.cpu(), all_labels.cpu()\n",
        "    all_preds = all_preds.squeeze(dim=-1)\n",
        "    evaluator = Evaluate(all_preds, all_labels)\n",
        "    print('Overall Results on the Test set:')\n",
        "    print('Accuracy\\t{}'.format(evaluator.accuracy()))\n",
        "    pr, rc, fm = evaluator.precision_recall_fscore(tag_list=[1,2,3]) # we ignore pad  \n",
        "    print('Precision\\t{}\\nRecall\\t\\t{}\\nF1-score\\t{}'.format(pr,rc,fm))\n",
        "    \n",
        "    print('\\n==================\\n')\n",
        "    \n",
        "    print('# Results ignoring PAD and O:\\n')\n",
        "    tag_list = [1,2] # we ignore both pad and O\n",
        "    pr, rc, fm = evaluator.precision_recall_fscore(tag_list)\n",
        "    print('Precision\\t{}\\nRecall\\t\\t{}\\nF1-score\\t{}'.format(pr,rc,fm))         "
      ],
      "execution_count": 0,
      "outputs": [
        {
          "output_type": "stream",
          "text": [
            "Overall Results on the Test set:\n",
            "Accuracy\t0.9454008185776637\n",
            "Precision\t0.3377232197464391\n",
            "Recall\t\t0.33057357575470075\n",
            "F1-score\t0.318531044728471\n",
            "\n",
            "==================\n",
            "\n",
            "# Results ignoring PAD and O:\n",
            "\n",
            "Precision\t0.08872744142154093\n",
            "Recall\t\t0.17835592684324222\n",
            "F1-score\t0.11696311017442079\n"
          ],
          "name": "stdout"
        }
      ]
    },
    {
      "cell_type": "code",
      "metadata": {
        "id": "v6EP7vrK45xK",
        "colab_type": "code",
        "colab": {}
      },
      "source": [
        ""
      ],
      "execution_count": 0,
      "outputs": []
    },
    {
      "cell_type": "code",
      "metadata": {
        "id": "L-k0ILVz45vD",
        "colab_type": "code",
        "colab": {}
      },
      "source": [
        ""
      ],
      "execution_count": 0,
      "outputs": []
    },
    {
      "cell_type": "code",
      "metadata": {
        "id": "dp4BAe_k45pB",
        "colab_type": "code",
        "colab": {}
      },
      "source": [
        ""
      ],
      "execution_count": 0,
      "outputs": []
    },
    {
      "cell_type": "code",
      "metadata": {
        "id": "bT7e_EZq44T1",
        "colab_type": "code",
        "colab": {}
      },
      "source": [
        ""
      ],
      "execution_count": 0,
      "outputs": []
    },
    {
      "cell_type": "code",
      "metadata": {
        "id": "u00iumtg44Id",
        "colab_type": "code",
        "colab": {}
      },
      "source": [
        ""
      ],
      "execution_count": 0,
      "outputs": []
    }
  ]
}