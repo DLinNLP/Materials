{
  "nbformat": 4,
  "nbformat_minor": 0,
  "metadata": {
    "colab": {
      "name": "tagger.ipynb",
      "version": "0.3.2",
      "provenance": [],
      "collapsed_sections": []
    },
    "kernelspec": {
      "name": "python3",
      "display_name": "Python 3"
    },
    "accelerator": "GPU"
  },
  "cells": [
    {
      "cell_type": "markdown",
      "metadata": {
        "id": "jLImtw4oo0WV",
        "colab_type": "text"
      },
      "source": [
        "# Sequence Tagging\n",
        "---\n",
        "\n",
        "<font size=\"4\"> Tagging is the task of labelling each word in a sentence. Examples are: Part-of-Speech (POS) tagging, Named Entity Recognition (NER) and Semantic Role Labelling (SRL).\n",
        "  \n",
        "Sequence tagging can be treated as a set of independent classification tasks targeting each individual component of a sequence. However, ideally a model considers context when assigning labels to each component. \n",
        "\n",
        "Formally, the challenge in tagging is to learn a function that maps a sequence of observations x = (<i>x<sub>1</sub>,x<sub>2</sub>,....x<sub>n</sub></i>) to a label sequence y = (<i>y<sub>1</sub>,y<sub>2</sub>,...,y<sub>n</sub></i>), where <i>y<sub>i</sub></i> belongs to a set of tags, which in the case of POS tagging would be Noun, Verb, Adjective, or similar.\n",
        "\n",
        "In some tasks, a chunk in a sequence receives a label, such as <i>Cherno More</i> or <i>Black Sea</i> in \"Cherno More is the Bulgarian name of the Black Sea\". \n",
        "\n",
        "In such cases, it is a standard practice to annotate the data using the <b>IOB scheme</b>.\n",
        "\n",
        "Each element gets a label indicating whether it occurs in the beginning of chunk X (B-X), inside chunk X (I-x) or outside of any chunk (O).\n",
        "\n",
        "Common issues in tagging include:\n",
        "<ul>\n",
        "<li> Large set of features\n",
        "<li> Smaller amount of data\n",
        "<li> Expensive memory and time costs\n",
        "</ul>\n",
        "\n",
        "<br>\n",
        "  \n",
        "---\n",
        "In this notebook, we implement an <b>LSTM-based NER system</b> for CONLL2003 dataset.\n",
        "  \n",
        "</font>"
      ]
    },
    {
      "cell_type": "markdown",
      "metadata": {
        "id": "Hm5ZYINAn6lM",
        "colab_type": "text"
      },
      "source": [
        "## Let's start!\n",
        "---"
      ]
    },
    {
      "cell_type": "code",
      "metadata": {
        "id": "LF8OUxU6jSkE",
        "colab_type": "code",
        "outputId": "43a96855-6bab-4b0f-f684-e1b6d23d9c32",
        "colab": {
          "base_uri": "https://localhost:8080/",
          "height": 122
        }
      },
      "source": [
        "# The following two lines authorises access to Google Drive:\n",
        "from google.colab import drive\n",
        "drive.mount('/content/drive/')\n",
        "\n",
        "import warnings\n",
        "warnings.filterwarnings('ignore')"
      ],
      "execution_count": 0,
      "outputs": [
        {
          "output_type": "stream",
          "text": [
            "Go to this URL in a browser: https://accounts.google.com/o/oauth2/auth?client_id=947318989803-6bn6qk8qdgf4n4g3pfee6491hc0brc4i.apps.googleusercontent.com&redirect_uri=urn%3Aietf%3Awg%3Aoauth%3A2.0%3Aoob&scope=email%20https%3A%2F%2Fwww.googleapis.com%2Fauth%2Fdocs.test%20https%3A%2F%2Fwww.googleapis.com%2Fauth%2Fdrive%20https%3A%2F%2Fwww.googleapis.com%2Fauth%2Fdrive.photos.readonly%20https%3A%2F%2Fwww.googleapis.com%2Fauth%2Fpeopleapi.readonly&response_type=code\n",
            "\n",
            "Enter your authorization code:\n",
            "··········\n",
            "Mounted at /content/drive/\n"
          ],
          "name": "stdout"
        }
      ]
    },
    {
      "cell_type": "code",
      "metadata": {
        "id": "WJnwvlt7jffE",
        "colab_type": "code",
        "outputId": "7979f2a6-9cc0-4f96-918b-73416ea98e7a",
        "colab": {
          "base_uri": "https://localhost:8080/",
          "height": 34
        }
      },
      "source": [
        "import numpy as np\n",
        "import time\n",
        "import pdb\n",
        "import torch\n",
        "import gensim\n",
        "import torch.nn as nn\n",
        "import torch.optim as optim\n",
        "import torch.nn.functional as F\n",
        "from torch.utils.data import Dataset, DataLoader\n",
        "from torch.nn.utils.rnn import pack_padded_sequence, pad_packed_sequence\n",
        "\n",
        "use_cuda = torch.cuda.is_available()\n",
        "print(\"cuda device {}available\".format(\"\" if use_cuda else \"un\"))\n",
        "device = torch.device(\"cuda:0\" if use_cuda else \"cpu\")\n",
        "\n",
        "# Parameters\n",
        "EMBEDDING_DIM = 300\n",
        "HIDDEN_DIM = 200\n",
        "BATCH_SIZE = 32 #300\n",
        "EPOCHS = 10\n",
        "LSTM_DROPOUT = 0.3\n",
        "USE_PRETRAINED = False\n",
        "\n",
        "# data dir\n",
        "data_folder = \"/content/drive/My Drive/Session-2B/Data\"\n",
        "# embeddings folder \n",
        "embed_folder = \"/content/drive/My Drive/Sessin-2B/Embeddings\""
      ],
      "execution_count": 0,
      "outputs": [
        {
          "output_type": "stream",
          "text": [
            "cuda device available\n"
          ],
          "name": "stdout"
        }
      ]
    },
    {
      "cell_type": "markdown",
      "metadata": {
        "id": "-GWyxC9mu32c",
        "colab_type": "text"
      },
      "source": [
        "## Data Format\n",
        "---\n",
        "<font size=\"4\"> One standard file format for representing tagged pieces of text is CONLL. \n",
        "  \n",
        "A CONLL file contains one token per line and an empty line indicating the end of a sentence. Each token may be annotated by several tab-separated columns indicating information about the token (e.g. token raw form) or differrent tags assigned to it (e.g. syntactic and morphological labels).\n",
        "</font>\n",
        "\n",
        "<P>\n",
        "<table align=\"left\" style=\"width:100%\">\n",
        "  <tr>\n",
        "    <td>Welsh</td>\n",
        "    <td>NNP</td> \n",
        "    <td>B-NP</td>\n",
        "    <td><b>B-ORG</td>\n",
        "  </tr>\n",
        "  <tr>\n",
        "    <td>National</td>\n",
        "    <td>NNP</td> \n",
        "    <td>I-NP</td>\n",
        "    <td><b>I-ORG</td>\n",
        "  </tr>\n",
        "  <tr>\n",
        "    <td>Farmers</td>\n",
        "    <td>NNP</td> \n",
        "    <td>I-NP</td>\n",
        "    <td><b>I-ORG</td>\n",
        "  </tr>\n",
        "  <tr>\n",
        "    <td>'</td>\n",
        "    <td>POS</td> \n",
        "    <td>B-NP</td>\n",
        "    <td><b>I-ORG</td>\n",
        "  </tr>\n",
        "  <tr>\n",
        "    <td>Union</td>\n",
        "    <td>NNP</td> \n",
        "    <td>I-NP</td>\n",
        "    <td><b>I-ORG</td>\n",
        "  </tr>\n",
        "  <tr>\n",
        "    <td>(</td>\n",
        "    <td>(</td> \n",
        "    <td>O</td>\n",
        "    <td><b>O</td>\n",
        "  </tr>\n",
        "  <tr>\n",
        "    <td>NFU</td>\n",
        "    <td>NNP</td> \n",
        "    <td>B-NP</td>\n",
        "    <td><b>B-ORG</td>\n",
        "  </tr>\n",
        "  <tr>\n",
        "    <td>)</td>\n",
        "    <td>)</td> \n",
        "    <td>O</td>\n",
        "    <td><b>O</td>\n",
        "  </tr>\n",
        "  <tr>\n",
        "    <td>chairman</td>\n",
        "    <td>NN</td> \n",
        "    <td>B-NP</td>\n",
        "    <td><b>O</td>\n",
        "  </tr>\n",
        "  <tr>\n",
        "    <td>John</td>\n",
        "    <td>NNP</td> \n",
        "    <td>I-NP</td>\n",
        "    <td><b>B-PER</td>\n",
        "  </tr>\n",
        "  <tr>\n",
        "    <td>Lloyd</td>\n",
        "    <td>NNP</td> \n",
        "    <td>I-NP</td>\n",
        "    <td><b>I-PER</td>\n",
        "  </tr>\n",
        "  <tr>\n",
        "    <td>said</td>\n",
        "    <td>VBD</td> \n",
        "    <td>B-VP</td>\n",
        "    <td><b>O</td>\n",
        "  </tr>\n",
        "  <tr>\n",
        "    <td>on</td>\n",
        "    <td>IN</td> \n",
        "    <td>B-PP</td>\n",
        "    <td><b>O</td>\n",
        "  </tr>\n",
        "  <tr>\n",
        "    <td>BBC</td>\n",
        "    <td>NNP</td> \n",
        "    <td>B-NP</td>\n",
        "    <td><b>B-ORG</td>\n",
        "  </tr>\n",
        "  <tr>\n",
        "    <td>radio</td>\n",
        "    <td>NN</td> \n",
        "    <td>I-NP</td>\n",
        "    <td><b>I-ORG</td>\n",
        "  </tr>\n",
        "  <tr>\n",
        "    <td>.</td>\n",
        "    <td>.</td> \n",
        "    <td>O</td>\n",
        "    <td><b>O</b></td>\n",
        "  </tr>\n",
        "  <tr>\n",
        "    <td><br></tr>\n",
        "    <td><font size=\"4\"> Here, we read the CONLL 2003 dataset! <font></td>\n",
        "  </tr>\n",
        "</table>\n",
        "\n",
        "<br>\n",
        "</P> \n"
      ]
    },
    {
      "cell_type": "code",
      "metadata": {
        "id": "xpafGCXojfcB",
        "colab_type": "code",
        "outputId": "0bef392b-80fc-4777-9eff-bc52f95a4323",
        "colab": {
          "base_uri": "https://localhost:8080/",
          "height": 85
        }
      },
      "source": [
        "def readfile(filename):\n",
        "    f = open(filename)\n",
        "    sentences = []\n",
        "    sentence = []\n",
        "    for line in f:\n",
        "        if len(line) == 0 or line.startswith('-DOCSTART') or line[0] == \"\\n\":\n",
        "            if len(sentence) > 0:\n",
        "                sentences.append(sentence)\n",
        "                sentence = []\n",
        "            continue\n",
        "        splits = line.split(' ')\n",
        "        sentence.append([splits[0].strip(), splits[-1].strip()])\n",
        "\n",
        "    if len(sentence) > 0:\n",
        "        sentences.append(sentence)\n",
        "        sentence = []\n",
        "    sentences = [tuple(zip(*l)) for l in sentences]\n",
        "    return sentences\n",
        "\n",
        "train_data = np.array(readfile(data_folder+'/train.txt'))\n",
        "dev_data = np.array(readfile(data_folder+'/dev.txt'))\n",
        "test_data = np.array(readfile(data_folder+'/test.txt'))\n",
        "\n",
        "print(\"train_data shape: \",train_data.shape)\n",
        "print(\"One instance of data: \",train_data[0])\n",
        "print(\"dev_data shape: \",dev_data.shape)"
      ],
      "execution_count": 0,
      "outputs": [
        {
          "output_type": "stream",
          "text": [
            "train_data shape:  (14041, 2)\n",
            "One instance of data:  [('EU', 'rejects', 'German', 'call', 'to', 'boycott', 'British', 'lamb', '.')\n",
            " ('B-ORG', 'O', 'B-MISC', 'O', 'O', 'O', 'B-MISC', 'O', 'O')]\n",
            "dev_data shape:  (3250, 2)\n"
          ],
          "name": "stdout"
        }
      ]
    },
    {
      "cell_type": "markdown",
      "metadata": {
        "id": "JXW2CYLTA8zf",
        "colab_type": "text"
      },
      "source": [
        "## Pre-processing \n",
        "---\n",
        "\n",
        "<font size=\"4\">It is common to sort data instances based on their lengths. This way, the lengths of sequences in each batch would be more or less homogeneous. \n",
        "<font>"
      ]
    },
    {
      "cell_type": "code",
      "metadata": {
        "id": "LL_zgRz6jfYi",
        "colab_type": "code",
        "colab": {}
      },
      "source": [
        "# This reordering is useful for padding\n",
        "def tensor_reorder(data):\n",
        "    \"\"\"reorders tensors from longest to shortest\"\"\"\n",
        "    lengths = [len(i[0]) for i in data]\n",
        "    max_len = max(lengths)\n",
        "    lengths = torch.LongTensor(lengths)\n",
        "    lengths, perm_idx = lengths.sort(0, descending=True)\n",
        "    data = data[perm_idx]\n",
        "    return data\n",
        "\n",
        "train_data = tensor_reorder(train_data)\n",
        "dev_data = tensor_reorder(dev_data)\n",
        "test_data = tensor_reorder(test_data)\n",
        "\n",
        "MAX_LEN = max(len(train_data[0][0]), len(dev_data[0][0])) # we set the maximum length from the max seq in train "
      ],
      "execution_count": 0,
      "outputs": []
    },
    {
      "cell_type": "code",
      "metadata": {
        "id": "8wMKVnTrjfWN",
        "colab_type": "code",
        "colab": {}
      },
      "source": [
        "# Here, we create a dictionary that maps all words to indices (for encoding)\n",
        "\n",
        "all_words = list(set([w for sent in np.concatenate((train_data,dev_data), axis=0) for w in sent[0]]))\n",
        "\n",
        "word_to_ix = {t:i+2 for i, t in enumerate(all_words)}\n",
        "\n",
        "word_to_ix['<PAD>'] = 0\n",
        "word_to_ix['<UNK>'] = 1\n",
        "\n",
        "# The tagset is simplified (NE categories not included) \n",
        "tag_to_ix = {'<PAD>':0, 'B-MISC':1, 'B-LOC':1, 'B-ORG':1, 'B-PER':1,\n",
        "             'I-MISC':2, 'I-PER':2, 'I-ORG':2, 'I-LOC':2, 'O':3}\n",
        "ix_to_tag = {0:'<PAD>', 1:'B', 2:'I', 3:'O'}\n",
        "\n",
        "## If we wanted to consider tags in their entirety:\n",
        "# all_tags = list(set([tag for sent_tag in train_data for tag in sent_tag[1]]))\n",
        "# tag_to_ix = {t:i+1 for i, t in enumerate(all_tags)}\n",
        "# tag_to_ix['<PAD>'] = 0\n",
        "# ix_to_tag = {v: k for k, v in tag_to_ix.items()}"
      ],
      "execution_count": 0,
      "outputs": []
    },
    {
      "cell_type": "markdown",
      "metadata": {
        "id": "1WZuAnmVilza",
        "colab_type": "text"
      },
      "source": [
        "## Dataset class and Dataloading\n",
        "---\n",
        "\n",
        "<font size=\"4\">The standard way to represent a dataset in PyTorch is through the `utils.data.Dataset` class. In order to define your dataset, your custom class should inherit from `Dataset` and override the following two methods:\n",
        "    \n",
        "1. `__len__` which returns the size of the dataset  \n",
        "2. `__getitem__` which receives an index `i`, returning the representation for the i*th* sample in the dataset  \n",
        "\n",
        "You can define other arbitrary methods depending on your specific requirements.         \n",
        "    \n",
        "<font>"
      ]
    },
    {
      "cell_type": "code",
      "metadata": {
        "id": "gZ5P-gPUjhRQ",
        "colab_type": "code",
        "colab": {}
      },
      "source": [
        "# This class representa the dataset.\n",
        "class CoNLL2003NER(Dataset):\n",
        "\n",
        "    def __init__(self, X, max_len, word_to_ix, tag_to_ix):\n",
        "        self.X = X\n",
        "        self.max_len = max_len\n",
        "        self.word_to_ix = word_to_ix\n",
        "        self.tag_to_ix = tag_to_ix\n",
        "        \n",
        "    def transform(self, seq, to_ix):\n",
        "        \"\"\"Transorm and prepare one data instance\"\"\"\n",
        "        idxs = [to_ix[w] if w in to_ix else 1 for w in seq]\n",
        "        if len(idxs) >= self.max_len:\n",
        "            # Truncating\n",
        "            idxs = idxs[:self.max_len]    \n",
        "        else:\n",
        "            # Padding\n",
        "            idxs += [0]*(self.max_len-len(seq))\n",
        "        # torch.long tensors are usually used for indexing \n",
        "        return torch.tensor(idxs, dtype=torch.long)\n",
        "\n",
        "    def __len__(self):\n",
        "        \"\"\"Return the length of the dataset\"\"\"\n",
        "        return len(self.X)\n",
        "\n",
        "    def __getitem__(self, idx):\n",
        "        \"\"\"Given an index, return its corresponding item in the dataset\"\"\"\n",
        "        return self.transform(self.X[idx][0],self.word_to_ix), \\\n",
        "               self.transform(self.X[idx][1], self.tag_to_ix)"
      ],
      "execution_count": 0,
      "outputs": []
    },
    {
      "cell_type": "markdown",
      "metadata": {
        "id": "b9DaIIs4rn4H",
        "colab_type": "text"
      },
      "source": [
        "<font size=\"4\"> In order to iterate over a `Dataset` instance, PyTorch provides the `torch.utils.data.DataLoader` which offers the following functionalities:\n",
        "\n",
        "1.   create batches of data to be fed to a network \n",
        "2.   shuffling the data instances \n",
        "3.   loading instances using the multiprocessing workers \n",
        "    <font>"
      ]
    },
    {
      "cell_type": "code",
      "metadata": {
        "id": "e6kv5mDemXfZ",
        "colab_type": "code",
        "colab": {}
      },
      "source": [
        "# Depending on the batch size, `drop_last` might be set to `True` in order to drop the final smaller batch.\n",
        "\n",
        "params = {'batch_size': BATCH_SIZE,\n",
        "          'shuffle': False,\n",
        "          'num_workers': 6,\n",
        "          'drop_last':True}\n",
        "\n",
        "params_test = {'batch_size': 1, # batch is set to 1 not to drop any instances here\n",
        "          'shuffle': False,\n",
        "          'num_workers': 6,\n",
        "          'drop_last':True}\n",
        "\n",
        "train_data = CoNLL2003NER(train_data, MAX_LEN, word_to_ix, tag_to_ix)\n",
        "train_data_generator = DataLoader(train_data, **params)\n",
        "\n",
        "dev_data = CoNLL2003NER(dev_data, MAX_LEN, word_to_ix, tag_to_ix)\n",
        "dev_data_generator = DataLoader(dev_data, **params)\n",
        "\n",
        "test_data = CoNLL2003NER(test_data, MAX_LEN, word_to_ix, tag_to_ix)\n",
        "test_data_generator = DataLoader(test_data, **params_test)"
      ],
      "execution_count": 0,
      "outputs": []
    },
    {
      "cell_type": "code",
      "metadata": {
        "id": "QXPwobRmmXdf",
        "colab_type": "code",
        "colab": {}
      },
      "source": [
        ""
      ],
      "execution_count": 0,
      "outputs": []
    },
    {
      "cell_type": "markdown",
      "metadata": {
        "id": "_P8G0y54rpr8",
        "colab_type": "text"
      },
      "source": [
        "## Define the Model\n",
        "\n",
        "<font size=\"4\"> In PyTorch, models are defined by creating classes that inherit from `torch.nn.Module`. Defining a model involves two critical steps:\n",
        "    \n",
        "\n",
        "1.   Specifying the components of the model in the `__init__` constructor\n",
        "2.   Outlining the way these components interact in the `forward` method\n",
        "  </font>"
      ]
    },
    {
      "cell_type": "code",
      "metadata": {
        "id": "1Gm5mWQlmXbV",
        "colab_type": "code",
        "colab": {}
      },
      "source": [
        "# A simple LSTM Tagger\n",
        "class LSTMTagger(nn.Module):\n",
        "\n",
        "    def __init__(self, embedding_dim, hidden_dim, vocab_size, tagset_size, max_len):\n",
        "        super(LSTMTagger, self).__init__()\n",
        "        \n",
        "        # load weights from pre-trained vectors or with random initialization\n",
        "        if not USE_PRETRAINED:\n",
        "            self.word_embeddings = nn.Embedding(vocab_size, embedding_dim) \n",
        "        else: \n",
        "            # load weights from pre-trained vectors \n",
        "            self.word_embeddings = nn.Embedding.from_pretrained(embedding_matrix, freeze=True)\n",
        "            \n",
        "        \n",
        "        self.lstm = nn.LSTM(embedding_dim, hidden_dim, batch_first=True, dropout=LSTM_DROPOUT)\n",
        "    \n",
        "   \n",
        "        # The linear layer that maps from hidden space to tag space\n",
        "        self.hidden2tag = nn.Linear(hidden_dim, tagset_size)\n",
        "\n",
        "    def forward(self, sentence): \n",
        "        embeds = self.word_embeddings(sentence)     # SHAPE: [BATCH_SIZE,MAX_LEN,WORD_EMBEDDING_DIM]\n",
        "        \n",
        "        lstm_out, _ = self.lstm(embeds)\n",
        "\n",
        "        tag_space = self.hidden2tag(lstm_out)\n",
        "        tag_scores = F.log_softmax(tag_space, dim=1) \n",
        "        \n",
        "        return tag_scores"
      ],
      "execution_count": 0,
      "outputs": []
    },
    {
      "cell_type": "code",
      "metadata": {
        "id": "wBoxn3i6mXX_",
        "colab_type": "code",
        "outputId": "3c7e716e-0b92-4c63-d1f0-12e8d9b182c2",
        "colab": {
          "base_uri": "https://localhost:8080/",
          "height": 102
        }
      },
      "source": [
        "model = LSTMTagger(EMBEDDING_DIM, HIDDEN_DIM, len(word_to_ix), len(ix_to_tag), MAX_LEN).to(device)\n",
        "\n",
        "# The negative log likelihood loss. \n",
        "# It is useful to train a classification problem with C classes.\n",
        "loss_function = nn.NLLLoss(ignore_index=0)  \n",
        "optimizer = optim.Adam(model.parameters(), lr = 0.001) \n",
        "\n",
        "print(model)"
      ],
      "execution_count": 0,
      "outputs": [
        {
          "output_type": "stream",
          "text": [
            "LSTMTagger(\n",
            "  (word_embeddings): Embedding(26885, 300)\n",
            "  (lstm): LSTM(300, 200, batch_first=True, dropout=0.3)\n",
            "  (hidden2tag): Linear(in_features=200, out_features=4, bias=True)\n",
            ")\n"
          ],
          "name": "stdout"
        }
      ]
    },
    {
      "cell_type": "code",
      "metadata": {
        "id": "8oG8FVrcmXMU",
        "colab_type": "code",
        "colab": {}
      },
      "source": [
        ""
      ],
      "execution_count": 0,
      "outputs": []
    },
    {
      "cell_type": "markdown",
      "metadata": {
        "id": "l-ZspVZwFLMy",
        "colab_type": "text"
      },
      "source": [
        "## Training\n",
        "\n",
        "<font size=\"4\">In PyTorch, you have control over all the stages of the training, from iteration over the data, to adjusting the gradients, calculating the loss and backpropagation given the computed loss. \n",
        "\n",
        "The training procedure involves two for-loops. The inner loop is over the batches of the data. Here is where per-batch loss is computed and model parameters are updated using an optimizer. \n",
        "\n",
        "The inner loop is composed of the following essential steps:\n",
        "\n",
        "1. Clear the gradients. Remember that gradients accumulate over time. In each batch, they need to be reset.  \n",
        "\n",
        "2. Run forward pass and generate an output. \n",
        "\n",
        "3. Pass the output and the gold-standard training labels to the loss function to estimate the degree of deviation from the true labels.   \n",
        "\n",
        "4. Call the `backward()` method on the loss object. This will compute gradients $\\frac{\\partial loss}{\\partial x}$ for every parameter x whose `requires_grad` is set to `True`. In order words, the backward method `back propagates` gradients to each parameter.\n",
        "\n",
        "5. Perform parameter updates by calling `optimizer.step()`. The optimizer is dependent on the computed gradients to perform this operation. \n",
        "\n",
        "The outer loop repeats the inner one for the specified number of epochs. Note that the training procedure should happen in the `training` mode which is set in the beginning of the outer loop.   <font>\n",
        "  \n",
        "### Validation\n",
        "<font size=\"4\"> In each iteration of the training, we can monitor how well the model is learning, by testing it on the hold-out validation data. It is important to set the model mode to `eval` in order to avoid updating the parameters. This is to ensure the model is not overfitting on the training data or find the best parameters for the model. <br />\n",
        "\n",
        "We record all the epoch-based validation and training losses to be able to plot the changes over time.  \n",
        "<font>\n",
        "  "
      ]
    },
    {
      "cell_type": "code",
      "metadata": {
        "id": "LnB2nxhJmXC_",
        "colab_type": "code",
        "outputId": "796b3363-0341-47be-a244-80b1f53de316",
        "colab": {
          "base_uri": "https://localhost:8080/",
          "height": 357
        }
      },
      "source": [
        "def trainer(model, epochs):\n",
        "    \"\"\"train the model for the specified # of epochs\"\"\"\n",
        "    \n",
        "\n",
        "    batch_losses = []\n",
        "    valid_losses = []\n",
        "    \n",
        "    avg_train_losses = []\n",
        "    avg_valid_losses = [] \n",
        "    \n",
        "    for epoch in range(epochs):\n",
        "        \n",
        "                ################\n",
        "                ## train mode ##\n",
        "                ################\n",
        "        model.train() # set the model to training mode  \n",
        "        print('Epoch:', epoch+1)\n",
        "        t0 = time.time()\n",
        "        \n",
        "        n_correct, n_total = 0, 0\n",
        "         \n",
        "        for sentences, tags in train_data_generator:\n",
        "            sentences, tags = sentences.to(device), tags.to(device)\n",
        "            \n",
        "            # clear gradients \n",
        "            model.zero_grad()\n",
        "\n",
        "            # Run forward pass\n",
        "            predictions = model(sentences)\n",
        "            \n",
        "            # compute the loss, gradients, and update the parameters\n",
        "            predictions = predictions.permute(0,2,1)       # loss presumes labels to come 2nd (hence the permute)\n",
        "            batch_loss = loss_function(predictions, tags)  # This computes average loss over all instances of the batch \n",
        "            batch_losses.append(batch_loss.item())\n",
        "            \n",
        "            # compute number of correct predictions per epoch   \n",
        "            outputs = torch.argmax(predictions, dim=1)        \n",
        "            \n",
        "            n_correct += torch.sum(outputs==tags, dtype=torch.float)\n",
        "            n_total += float(tags.size(0) * tags.size(1))  # denominator: batch_size * max_len (e.g. 100 * 52)\n",
        "            \n",
        "            batch_loss.backward()\n",
        "            optimizer.step()\n",
        "        \n",
        "        epoch_acc = n_correct/n_total\n",
        "        epoch_loss = np.average(batch_losses)\n",
        "        avg_train_losses.append(epoch_loss) # for keeping track of avg train losses\n",
        "  \n",
        "                ################\n",
        "                ## eval mode ###\n",
        "                ################\n",
        "        model.eval() # set the model to eval mode\n",
        "        for valid_sentences, valid_tags in dev_data_generator:\n",
        "            valid_sentences, valid_tags = valid_sentences.to(device), valid_tags.to(device)\n",
        "            \n",
        "            # Run forward pass. Note since we are in eval mode, we don't need to set grad to zero  \n",
        "            valid_predictions = model(valid_sentences)\n",
        "            valid_predictions = valid_predictions.permute(0,2,1)\n",
        "            # calculate the average loss \n",
        "            valid_batch_loss = loss_function(valid_predictions, valid_tags)\n",
        "            valid_losses.append(valid_batch_loss.item())\n",
        "            \n",
        "        valid_loss = np.average(valid_losses)\n",
        "        avg_valid_losses.append(valid_loss)\n",
        "        \n",
        "        t = time.time()\n",
        "        print('epoch loss: {}\\tepoch acc: {}\\tvalid loss:{}\\ttime:{}'.format(epoch_loss, epoch_acc.item(), valid_loss, t-t0))\n",
        "        \n",
        "        \n",
        "    return model, avg_train_losses, avg_valid_losses \n",
        "            \n",
        "model, avg_train_losses, avg_valid_losses = trainer(model, EPOCHS)"
      ],
      "execution_count": 0,
      "outputs": [
        {
          "output_type": "stream",
          "text": [
            "Epoch: 1\n",
            "epoch loss: 2.0532789025123477\tepoch acc: 0.955457329750061\tvalid loss:2.254890120117971\ttime:16.660487174987793\n",
            "Epoch: 2\n",
            "epoch loss: 1.9956711378972074\tepoch acc: 0.9708019495010376\tvalid loss:2.181553416986867\ttime:16.339728593826294\n",
            "Epoch: 3\n",
            "epoch loss: 1.9616131408477968\tepoch acc: 0.9791622161865234\tvalid loss:2.1492863525160075\ttime:16.34510827064514\n",
            "Epoch: 4\n",
            "epoch loss: 1.9396317371601939\tepoch acc: 0.9827945828437805\tvalid loss:2.132105748657838\ttime:16.385411739349365\n",
            "Epoch: 5\n",
            "epoch loss: 1.9245943257346756\tepoch acc: 0.98458331823349\tvalid loss:2.116731291448716\ttime:16.353515148162842\n",
            "Epoch: 6\n",
            "epoch loss: 1.9133530729876211\tepoch acc: 0.9856756329536438\tvalid loss:2.1048325507873944\ttime:16.380359649658203\n",
            "Epoch: 7\n",
            "epoch loss: 1.9045399830167478\tepoch acc: 0.9865614771842957\tvalid loss:2.096735851852358\ttime:16.378195762634277\n",
            "Epoch: 8\n",
            "epoch loss: 1.8975525845033263\tepoch acc: 0.9871972799301147\tvalid loss:2.090321431581927\ttime:16.353760480880737\n",
            "Epoch: 9\n",
            "epoch loss: 1.8918813554469405\tepoch acc: 0.9874554872512817\tvalid loss:2.0859382301732916\ttime:16.394416093826294\n",
            "Epoch: 10\n",
            "epoch loss: 1.887218703690484\tepoch acc: 0.9878324270248413\tvalid loss:2.0823040998513154\ttime:16.393966674804688\n"
          ],
          "name": "stdout"
        }
      ]
    },
    {
      "cell_type": "code",
      "metadata": {
        "id": "Aa4vzoEReMeB",
        "colab_type": "code",
        "outputId": "ee64393f-fdd5-4c2f-a080-c61eaece7195",
        "colab": {
          "base_uri": "https://localhost:8080/",
          "height": 392
        }
      },
      "source": [
        "# Visualizing the loss as the network trained\n",
        "\n",
        "import matplotlib.pyplot as plt\n",
        "\n",
        "fig = plt.figure(figsize=(8,6))\n",
        "\n",
        "plt.plot(range(1,len(avg_train_losses)+1),avg_train_losses, label='Training Loss')\n",
        "plt.plot(range(1,len(avg_valid_losses)+1),avg_valid_losses,label='Validation Loss')\n",
        "\n",
        "plt.xlabel('epochs')\n",
        "plt.ylabel('loss')\n",
        "\n",
        "# find position of lowest validation loss\n",
        "minposs = avg_valid_losses.index(min(avg_valid_losses))+1 \n",
        "plt.axvline(minposs, linestyle='--', color='r',label='Early Stopping')\n",
        "\n",
        "plt.grid(True)\n",
        "plt.legend()\n",
        "\n",
        "plt.show()"
      ],
      "execution_count": 0,
      "outputs": [
        {
          "output_type": "display_data",
          "data": {
            "image/png": "[encoded data removed]",
            "text/plain": [
              "<Figure size 576x432 with 1 Axes>"
            ]
          },
          "metadata": {
            "tags": []
          }
        }
      ]
    },
    {
      "cell_type": "markdown",
      "metadata": {
        "id": "_B4YGlBUVEF-",
        "colab_type": "text"
      },
      "source": [
        "## Test\n",
        "<font size=\"4\">\n",
        "  Now you can compute the performance of the model on the unseen test data.\n",
        "  \n",
        "  </font>"
      ]
    },
    {
      "cell_type": "code",
      "metadata": {
        "id": "j9XRK1GJSjBc",
        "colab_type": "code",
        "colab": {}
      },
      "source": [
        "# define evaluation metrics (acc, precision, recall, and f1-score)\n",
        "from sklearn.metrics import precision_recall_fscore_support\n",
        "\n",
        "class Evaluate():\n",
        "    def __init__(self, out, labels):\n",
        "        self.out = out.numpy().flatten()\n",
        "        self.labels = labels.numpy().flatten()\n",
        "    def accuracy(self):\n",
        "        nb_correct = sum(y_t==y_p for y_t, y_p in zip(self.labels, self.out))\n",
        "        nb_true = len(self.labels)\n",
        "        score = nb_correct / nb_true\n",
        "        return score\n",
        "    def precision_recall_fscore(self, tag_list, average='macro'):\n",
        "        return precision_recall_fscore_support(self.labels, self.out, \n",
        "                                                  average=average,labels=tag_list)[:-1]"
      ],
      "execution_count": 0,
      "outputs": []
    },
    {
      "cell_type": "code",
      "metadata": {
        "id": "5tWDZVOimW6L",
        "colab_type": "code",
        "outputId": "b282b768-7b9e-41b0-a427-feda975768e6",
        "colab": {
          "base_uri": "https://localhost:8080/",
          "height": 238
        }
      },
      "source": [
        "# evaluate the model on test set \n",
        "\n",
        "\n",
        "all_preds = torch.LongTensor().to(device)\n",
        "all_labels = torch.LongTensor().to(device)\n",
        "\n",
        "with torch.no_grad():\n",
        "    for sent, target in test_data_generator:\n",
        "        sent, target = sent.to(device), target.to(device)\n",
        "        tag_scores = model(sent)\n",
        "        \n",
        "        predict = tag_scores.data.max(2, keepdim=True)[1]        \n",
        "        all_preds = torch.cat([all_preds, predict])\n",
        "        all_labels = torch.cat([all_labels,target])\n",
        "    \n",
        "    all_preds, all_labels = all_preds.cpu(), all_labels.cpu()\n",
        "    all_preds = all_preds.squeeze(dim=-1)\n",
        "    evaluator = Evaluate(all_preds, all_labels)\n",
        "    print('Overall Results on the Test set:')\n",
        "    print('Accuracy\\t{}'.format(evaluator.accuracy()))\n",
        "    pr, rc, fm = evaluator.precision_recall_fscore(tag_list=[1,2,3]) # we ignore pad  \n",
        "    print('Precision\\t{}\\nRecall\\t\\t{}\\nF1-score\\t{}'.format(pr,rc,fm))\n",
        "    \n",
        "    print('\\n==================\\n')\n",
        "    \n",
        "    print('# Results ignoring PAD and O:\\n')\n",
        "    tag_list = [1,2] # we ignore both pad and O\n",
        "    pr, rc, fm = evaluator.precision_recall_fscore(tag_list)\n",
        "    print('Precision\\t{}\\nRecall\\t\\t{}\\nF1-score\\t{}'.format(pr,rc,fm))         "
      ],
      "execution_count": 0,
      "outputs": [
        {
          "output_type": "stream",
          "text": [
            "Overall Results on the Test set:\n",
            "Accuracy\t0.9832388919216072\n",
            "Precision\t0.6824960815361895\n",
            "Recall\t\t0.8576102297676594\n",
            "F1-score\t0.7331814228090995\n",
            "\n",
            "==================\n",
            "\n",
            "# Results ignoring PAD and O:\n",
            "\n",
            "Precision\t0.5356966662778412\n",
            "Recall\t\t0.8548201885809181\n",
            "F1-score\t0.6416834915543694\n"
          ],
          "name": "stdout"
        }
      ]
    },
    {
      "cell_type": "code",
      "metadata": {
        "id": "v6EP7vrK45xK",
        "colab_type": "code",
        "colab": {}
      },
      "source": [
        ""
      ],
      "execution_count": 0,
      "outputs": []
    },
    {
      "cell_type": "code",
      "metadata": {
        "id": "L-k0ILVz45vD",
        "colab_type": "code",
        "colab": {}
      },
      "source": [
        ""
      ],
      "execution_count": 0,
      "outputs": []
    },
    {
      "cell_type": "code",
      "metadata": {
        "id": "dp4BAe_k45pB",
        "colab_type": "code",
        "colab": {}
      },
      "source": [
        ""
      ],
      "execution_count": 0,
      "outputs": []
    },
    {
      "cell_type": "markdown",
      "metadata": {
        "id": "ERszEw8wPRma",
        "colab_type": "text"
      },
      "source": [
        "# * TO DO #1  \n",
        "## Early Stopping\n",
        "- End training if validation losses stagnate/increase \n",
        "- Save the best Model \n",
        "\n",
        "Hint: Have a quick look at this page to learn how to save/load models: https://bit.ly/2D7byMe "
      ]
    },
    {
      "cell_type": "markdown",
      "metadata": {
        "id": "ooaEokG3QUl6",
        "colab_type": "text"
      },
      "source": [
        "# * TO DO #2\n",
        "## Load pre-trained embbeding\n",
        "\n",
        "Fill embedding_matrix\n",
        "\n",
        "wv_file = embed_folder + FILE_NAME\n",
        "\n",
        "wv_model = gensim.models.KeyedVectors.load_word2vec_format(wv_file)\n",
        "\n",
        "embedding_matrix = wv_model.vectors"
      ]
    },
    {
      "cell_type": "markdown",
      "metadata": {
        "id": "mbw1WYYlRWZ6",
        "colab_type": "text"
      },
      "source": [
        "# * TO DO #3\n",
        "## Add other layers or components to the Model\n",
        "\n",
        "e.g. bi-directional LSTM\n"
      ]
    },
    {
      "cell_type": "markdown",
      "metadata": {
        "id": "oft6CzDGJeOt",
        "colab_type": "text"
      },
      "source": [
        "# * TO DO #4: Character Embeddibg\n",
        "\n",
        "<font size=\"4\"> \n",
        "*    Out-of-vocabulary (OOV) words are an issue in word embeddings that can negatively affect performance. For this reason it is helpful to have character-level features that can augment word representation. \n",
        "    \n",
        "*    In some applications, sub-word units can provide helpful clues for the learning models. For these reasons, character embeddings are sometimes used in conjuction with word-level features. \n",
        "\n",
        "    \n",
        "The overall process for creating combined word and character embeddings is depicted in the image below:\n",
        "    \n",
        "<figure>\n",
        "<center>\n",
        "<img src=\"https://drive.google.com/uc?id=1PiHd5B18-TH8vdpX62E6Sae4nUXmf6sD\" />\n",
        "<figcaption>word and character features</figcaption></center>\n",
        "</figure>\n",
        "  \n",
        "\n",
        "Consider the word <i>gene</i>. The procedure is captured in more detail in the following diagram:\n",
        "\n",
        "<figure>\n",
        "<center>\n",
        "<img src=\"https://drive.google.com/uc?id=1Zigj71mnsUqjcnona3BvKS6PCugVFIVe\" \n",
        "     width=\"400\" height=\"400\"/>\n",
        "<figcaption>source: https://www.aclweb.org/anthology/N18-1131</figcaption></center>\n",
        "</figure>\n",
        "    \n",
        "</font>\n"
      ]
    },
    {
      "cell_type": "markdown",
      "metadata": {
        "id": "OxQdoOfN2-no",
        "colab_type": "text"
      },
      "source": [
        "<font size=\"4\"> \n",
        "Similarly, in this exercise we augment the word embedding with character embedding using a character-based Bi-LSTM. More parameters would be added to the model and the `Dataset` and the `nn.Module` classes should be modified accordingly. \n",
        "    \n",
        "More specifically, the following steps need to be completed in order to augment the model with character-based features:\n",
        "\n",
        "1. Similar to words, characters should be indexed (with a specification for the maximum number of characters considered in a word) \n",
        "\n",
        "2. The Dataset class should be modified to return a character-encoded representation along with a word-based one \n",
        "\n",
        "3. The architecture of the baseline model should also be changed. Two separate Embedding layers are needed to embed the two representations. Two LSTM layers are also  required (word-based and character-based). This means new Embedding and LSTM layers should be defined in the `__init__` section of the class which would only receive the character-based representations in each batch. The outputs of the char-based LSTM and word-based Embedding are then concatenated to form the combined representation which would be finally fed to the main LSTM of the model. \n",
        " \n",
        "</font>"
      ]
    },
    {
      "cell_type": "code",
      "metadata": {
        "id": "bT7e_EZq44T1",
        "colab_type": "code",
        "colab": {}
      },
      "source": [
        ""
      ],
      "execution_count": 0,
      "outputs": []
    },
    {
      "cell_type": "markdown",
      "metadata": {
        "id": "T0XRsLtWKAHh",
        "colab_type": "text"
      },
      "source": [
        "# * TO DO #5: Notes on Multi-task Learning\n",
        "\n",
        "<font size=\"4\"> \n",
        "  \n",
        "  Multi-task learning is an approach for jointly training multiple models. It can be simply implemented in neural networks by learning tasks in parallel while using a shared representation.\n",
        "  \n",
        "The simplest way is when we have different outputs for the same input and simultaneously train a model to predict the two or more outputs. \n",
        "  \n",
        "Parallel models can have both shared and independent layers.\n",
        "  \n",
        "  <figure>\n",
        "<center>\n",
        "<img src=\"https://drive.google.com/uc?id=1LdwHoHlwm2wQj6SHUazYkNcavTCJp1_X\" width=\"400\" height=\"300\"/>\n",
        "<figcaption>Multi-task learning</figcaption></center>\n",
        "</figure>\n",
        "  \n",
        "In this excercise, we use the tags for chunking (which is provided in CONLL 2003 dataset in the third column) as our auxiliary outputs. The idea is that these two tasks can benefit from each other.\n",
        "  \n",
        "  \n",
        "The sections of the code that should be modified for multi-tasking are as follows:\n",
        "  \n",
        "\n",
        "\n",
        "* Modify `readfile()`, to read the chunking column as well\n",
        "* Create a dictionary that encode auxiliary tags\n",
        "* Return auxiliary tags from class `CoNLL2003NER(Dataset)`\n",
        "* Modify the model class. The architecture of the model will consist of one LSTM layer on top of embedding, then, two parallel LSTM layers, one to learn auxiliary tags and one to learn the main tags, and finally two Linear layers in similar fashion. The model returns two outputs accordingly.\n",
        "* In the training loop, two losses will be computed, one for main tags predictions and one for auxiliary tags prediction. Backpropagation would be performed based on the addition of the two losses.\n",
        " \n",
        "</font>"
      ]
    },
    {
      "cell_type": "code",
      "metadata": {
        "id": "u00iumtg44Id",
        "colab_type": "code",
        "colab": {}
      },
      "source": [
        ""
      ],
      "execution_count": 0,
      "outputs": []
    }
  ]
}